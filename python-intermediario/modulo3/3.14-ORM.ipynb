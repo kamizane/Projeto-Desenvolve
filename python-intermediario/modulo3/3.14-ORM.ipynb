{
 "cells": [
  {
   "cell_type": "markdown",
   "metadata": {},
   "source": [
    "> Projeto Desenvolve <br>\n",
    "Programação Intermediária com Python <br>\n",
    "Profa. Camila Laranjeira (mila@projetodesenvolve.com.br) <br>\n",
    "\n",
    "# 3.14 - ORM"
   ]
  },
  {
   "cell_type": "markdown",
   "metadata": {},
   "source": [
    "## Exercícios\n",
    "\n",
    "#### Q1. Conhecendo os dados\n",
    "Baixe o seguinte csv onde iremos trabalhar. Ele contém informações sobre salários de profissionais de dados de uma empresa hipotética entre 2009 e 2016\n",
    "* https://github.com/camilalaranjeira/python-intermediario/blob/main/salaries.csv\n",
    "\n",
    "Suas colunas, descritas na [página do Kaggle que contém o dataset](https://www.kaggle.com/datasets/krishujeniya/salary-prediction-of-data-professions?resource=download), são:\n",
    "* FIRST NAME: Primeiro nome do profissional de dados (String)\n",
    "* LAST NAME: Sobrenome do profissional de dados (String)\n",
    "* SEX: Gênero do profissional de dados (String: 'F' para Feminino, 'M' para Masculino)\n",
    "* DOJ (Date of Joining): A data em que o profissional de dados ingressou na empresa (Data no formato MM/DD/AAAA)\n",
    "* CURRENT DATE: A data atual ou a data de referência dos dados (Data no formato MM/DD/AAAA)\n",
    "* DESIGNATION: O cargo ou designação do profissional de dados (String: ex., Analista, Analista Sênior, Gerente)\n",
    "* AGE: Idade do profissional de dados (Integer)\n",
    "* SALARY: Salário anual do profissional de dados (Float)\n",
    "* UNIT: Unidade de negócios ou departamento em que o profissional de dados trabalha (String: ex., TI, Finanças, Marketing)\n",
    "* LEAVES USED: Número de licenças utilizadas pelo profissional de dados (Integer)\n",
    "* LEAVES REMAINING: Número de licenças restantes para o profissional de dados (Integer)\n",
    "* RATINGS: Avaliações de desempenho do profissional de dados (Float)\n",
    "* PAST EXP: Experiência de trabalho anterior em anos antes de ingressar na empresa atual (Float)\n",
    "\n",
    "Na célula a seguir, **carregue os dados do CSV e dê uma olhada neles antes de seguir**."
   ]
  },
  {
   "cell_type": "code",
   "execution_count": null,
   "metadata": {},
   "outputs": [
    {
     "name": "stdout",
     "output_type": "stream",
     "text": [
      "  FIRST NAME   LAST NAME SEX         DOJ CURRENT DATE DESIGNATION   AGE  \\\n",
      "0     TOMASA       ARMEN   F   5-18-2014   01-07-2016     Analyst  21.0   \n",
      "1      ANNIE         NaN   F         NaN   01-07-2016   Associate   NaN   \n",
      "2      OLIVE        ANCY   F   7-28-2014   01-07-2016     Analyst  21.0   \n",
      "3     CHERRY     AQUILAR   F  04-03-2013   01-07-2016     Analyst  22.0   \n",
      "4       LEON  ABOULAHOUD   M  11-20-2014   01-07-2016     Analyst   NaN   \n",
      "\n",
      "   SALARY        UNIT  LEAVES USED  LEAVES REMAINING  RATINGS  PAST EXP  \n",
      "0   44570     Finance         24.0               6.0      2.0         0  \n",
      "1   89207         Web          NaN              13.0      NaN         7  \n",
      "2   40955     Finance         23.0               7.0      3.0         0  \n",
      "3   45550          IT         22.0               8.0      3.0         0  \n",
      "4   43161  Operations         27.0               3.0      NaN         3  \n"
     ]
    }
   ],
   "source": [
    "### Escreva sua resposta aqui\n",
    "import pandas as pd\n",
    "\n",
    "url = 'https://raw.githubusercontent.com/camilalaranjeira/python-intermediario/main/salaries.csv'\n",
    "\n",
    "df = pd.read_csv(url)\n",
    "\n",
    "print(df.head())\n"
   ]
  },
  {
   "cell_type": "markdown",
   "metadata": {},
   "source": [
    "#### Q2. Modelando os dados\n",
    "Você deve **criar um ORM com SQLAlchemy capaz de comportar os dados dessa base**.\n",
    "\n",
    "* Crie um campo de chave primária `ID`, que deve ser incrementado automaticamente\n",
    "* Os campos SEX, DESIGNATION e UNIT devem ser definidos como classes `Enum` com os possíveis valores (consulte os valores únicos dessas colunas)\n",
    "* Para os outros campos, consulte os tipos de dados informados na descrição acima"
   ]
  },
  {
   "cell_type": "code",
   "execution_count": null,
   "metadata": {},
   "outputs": [
    {
     "name": "stdout",
     "output_type": "stream",
     "text": [
      "['F' 'M']\n",
      "['Analyst' 'Associate' 'Senior Analyst' 'Senior Manager' 'Manager'\n",
      " 'Director']\n",
      "['Finance' 'Web' 'IT' 'Operations' 'Marketing' 'Management']\n"
     ]
    },
    {
     "ename": "ModuleNotFoundError",
     "evalue": "No module named 'sqlalchemy'",
     "output_type": "error",
     "traceback": [
      "\u001b[0;31m---------------------------------------------------------------------------\u001b[0m",
      "\u001b[0;31mModuleNotFoundError\u001b[0m                       Traceback (most recent call last)",
      "Cell \u001b[0;32mIn[2], line 6\u001b[0m\n\u001b[1;32m      3\u001b[0m \u001b[38;5;28mprint\u001b[39m(df[\u001b[38;5;124m'\u001b[39m\u001b[38;5;124mDESIGNATION\u001b[39m\u001b[38;5;124m'\u001b[39m]\u001b[38;5;241m.\u001b[39munique())\n\u001b[1;32m      4\u001b[0m \u001b[38;5;28mprint\u001b[39m(df[\u001b[38;5;124m'\u001b[39m\u001b[38;5;124mUNIT\u001b[39m\u001b[38;5;124m'\u001b[39m]\u001b[38;5;241m.\u001b[39munique())\n\u001b[0;32m----> 6\u001b[0m \u001b[38;5;28;01mfrom\u001b[39;00m \u001b[38;5;21;01msqlalchemy\u001b[39;00m \u001b[38;5;28;01mimport\u001b[39;00m create_engine, Column, Integer, String, Float, Date, Enum\n\u001b[1;32m      7\u001b[0m \u001b[38;5;28;01mfrom\u001b[39;00m \u001b[38;5;21;01msqlalchemy\u001b[39;00m\u001b[38;5;21;01m.\u001b[39;00m\u001b[38;5;21;01mext\u001b[39;00m\u001b[38;5;21;01m.\u001b[39;00m\u001b[38;5;21;01mdeclarative\u001b[39;00m \u001b[38;5;28;01mimport\u001b[39;00m declarative_base\n\u001b[1;32m      8\u001b[0m \u001b[38;5;28;01mimport\u001b[39;00m \u001b[38;5;21;01menum\u001b[39;00m\n",
      "\u001b[0;31mModuleNotFoundError\u001b[0m: No module named 'sqlalchemy'"
     ]
    }
   ],
   "source": [
    "### Escreva sua resposta aqui\n",
    "print(df['SEX'].unique())\n",
    "print(df['DESIGNATION'].unique())\n",
    "print(df['UNIT'].unique())\n",
    "\n",
    "from sqlalchemy import create_engine, Column, Integer, String, Float, Date, Enum\n",
    "from sqlalchemy.ext.declarative import declarative_base\n",
    "import enum\n",
    "\n",
    "Base = declarative_base()\n",
    "\n",
    "class SexEnum(enum.Enum):\n",
    "    F = 'F'\n",
    "    M = 'M'\n",
    "\n",
    "class DesignationEnum(enum.Enum):\n",
    "    Analyst = 'Analyst'\n",
    "    Senior_Analyst = 'Senior Analyst'\n",
    "    Manager = 'Manager'\n",
    "\n",
    "class UnitEnum(enum.Enum):\n",
    "    IT = 'IT'\n",
    "    Finance = 'Finance'\n",
    "    Marketing = 'Marketing'\n",
    "\n",
    "class Employee(Base):\n",
    "    __tablename__ = 'employees'\n",
    "\n",
    "    id = Column(Integer, primary_key=True, autoincrement=True)\n",
    "    first_name = Column(String)\n",
    "    last_name = Column(String)\n",
    "    sex = Column(Enum(SexEnum))\n",
    "    doj = Column(Date)\n",
    "    current_date = Column(Date)\n",
    "    designation = Column(Enum(DesignationEnum))\n",
    "    age = Column(Integer)\n",
    "    salary = Column(Float)\n",
    "    unit = Column(Enum(UnitEnum))\n",
    "    leaves_used = Column(Integer)\n",
    "    leaves_remaining = Column(Integer)\n",
    "    ratings = Column(Float)\n",
    "    past_exp = Column(Float)\n"
   ]
  },
  {
   "cell_type": "markdown",
   "metadata": {
    "vscode": {
     "languageId": "plaintext"
    }
   },
   "source": [
    "#### Q3. Estabelecendo uma conexão\n",
    "\n",
    "Usando o método `create_engine` do SQLAlchemy, crie uma conexão com um novo banco de dados SQLite chamado `salarios`."
   ]
  },
  {
   "cell_type": "code",
   "execution_count": null,
   "metadata": {},
   "outputs": [],
   "source": [
    "### Escreva sua resposta aqui\n",
    "engine = create_engine('sqlite:///salarios.db')\n"
   ]
  },
  {
   "cell_type": "markdown",
   "metadata": {},
   "source": [
    "#### Q4. Criando as tabelas\n",
    "Crie as tabelas da questão Q2 no banco `salarios`."
   ]
  },
  {
   "cell_type": "code",
   "execution_count": null,
   "metadata": {},
   "outputs": [],
   "source": [
    "### Escreva sua resposta aqui\n",
    "Base.metadata.create_all(engine)\n"
   ]
  },
  {
   "cell_type": "markdown",
   "metadata": {},
   "source": [
    "#### Q5. Populando\n",
    "\n",
    "Usando o método `to_sql` da biblioteca Pandas (veja [a documentação](https://pandas.pydata.org/docs/reference/api/pandas.DataFrame.to_sql.html)), popule o banco `salarios` com os dados do csv que você carregou na questão Q1.\n",
    "* Lembre-se de definir o parâmetro `if_exists='append'` para que as tabelas não sejam dropadas e recriadas."
   ]
  },
  {
   "cell_type": "code",
   "execution_count": null,
   "metadata": {},
   "outputs": [],
   "source": [
    "### Escreva sua resposta aqui\n",
    "df.to_sql('employees', con=engine, if_exists='append', index=False)\n"
   ]
  },
  {
   "cell_type": "markdown",
   "metadata": {},
   "source": [
    "#### Q6. Consultas SQL vs ORM\n",
    "\n",
    "Agrupe os dados por DESIGNATION e selecione o mínimo, máximo e a média dos salários (SALARY) divididos por 12. Já que o atributo SALARY é anual, dividir por 12 nos mostrará os valores mensais.\n",
    "\n",
    "Assumindo que a variável que armazena a sua conexão se chama `engine`, você deve realizar a query acima de três formas:\n",
    "* Executando a query SQL através de uma instância de conexão retornada pelo método `engine.connect()`\n",
    "* Executando a query SQL com o método `read_sql_query` do Pandas (veja [a documentação](https://pandas.pydata.org/docs/reference/api/pandas.read_sql_query.html)). Você usará mesma instância `engine.connect()` como um dos parâmetros.\n",
    "* Executando uma query criada com o módulo `select` do SQLAlchemy. Sua execução deve ser feita através de um objeto `Session` do módulo `orm` do SQLAlchemy (`Session(engine)`).\n"
   ]
  },
  {
   "cell_type": "code",
   "execution_count": null,
   "metadata": {},
   "outputs": [],
   "source": [
    "### Execute aqui sua query SQL com SQLAlchemy\n",
    "from sqlalchemy import text\n",
    "\n",
    "query = text('''\n",
    "    SELECT designation,\n",
    "           MIN(salary)/12 AS min_salary,\n",
    "           MAX(salary)/12 AS max_salary,\n",
    "           AVG(salary)/12 AS avg_salary\n",
    "    FROM employees\n",
    "    GROUP BY designation\n",
    "''')\n",
    "\n",
    "with engine.connect() as connection:\n",
    "    result = connection.execute(query)\n",
    "    for row in result:\n",
    "        print(row)\n"
   ]
  },
  {
   "cell_type": "code",
   "execution_count": null,
   "metadata": {},
   "outputs": [],
   "source": [
    "### Execute aqui sua query SQL com SQLAlchemy + Pandas\n",
    "query = '''\n",
    "    SELECT designation,\n",
    "           MIN(salary)/12 AS min_salary,\n",
    "           MAX(salary)/12 AS max_salary,\n",
    "           AVG(salary)/12 AS avg_salary\n",
    "    FROM employees\n",
    "    GROUP BY designation\n",
    "'''\n",
    "\n",
    "df_result = pd.read_sql_query(query, con=engine)\n",
    "print(df_result)\n"
   ]
  },
  {
   "cell_type": "code",
   "execution_count": null,
   "metadata": {},
   "outputs": [],
   "source": [
    "### Execute aqui sua query com SQLAlchemy ORM\n",
    "from sqlalchemy.orm import sessionmaker\n",
    "from sqlalchemy import func\n",
    "\n",
    "Session = sessionmaker(bind=engine)\n",
    "session = Session()\n",
    "\n",
    "results = session.query(\n",
    "    Employee.designation,\n",
    "    (func.min(Employee.salary)/12).label('min_salary'),\n",
    "    (func.max(Employee.salary)/12).label('max_salary'),\n",
    "    (func.avg(Employee.salary)/12).label('avg_salary')\n",
    ").group_by(Employee.designation).all()\n",
    "\n",
    "for result in results:\n",
    "    print(result)\n"
   ]
  }
 ],
 "metadata": {
  "kernelspec": {
   "display_name": "Python 3",
   "language": "python",
   "name": "python3"
  },
  "language_info": {
   "codemirror_mode": {
    "name": "ipython",
    "version": 3
   },
   "file_extension": ".py",
   "mimetype": "text/x-python",
   "name": "python",
   "nbconvert_exporter": "python",
   "pygments_lexer": "ipython3",
   "version": "3.11.6"
  }
 },
 "nbformat": 4,
 "nbformat_minor": 2
}
