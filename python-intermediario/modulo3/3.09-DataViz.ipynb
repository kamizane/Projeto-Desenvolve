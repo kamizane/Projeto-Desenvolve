{
 "cells": [
  {
   "cell_type": "markdown",
   "metadata": {},
   "source": [
    "> Projeto Desenvolve <br>\n",
    "Programação Intermediária com Python <br>\n",
    "Profa. Camila Laranjeira (mila@projetodesenvolve.com.br) <br>\n",
    "\n",
    "# 3.9 - Visualização de Dados"
   ]
  },
  {
   "cell_type": "markdown",
   "metadata": {
    "vscode": {
     "languageId": "plaintext"
    }
   },
   "source": [
    "## Exercícios\n",
    "Vamos trabalhar com as mesmas bases de dados do exercício de Pandas. Aqui estão os links caso você queira baixar novamente, mas recomendo trabalhar com o `wc_formatado.csv` que exportamos na questão Q2 do exercício anterior.\n",
    "\n",
    "* https://raw.githubusercontent.com/camilalaranjeira/python-intermediario/main/fifa-wc/matches_1930_2022.csv\n",
    "* https://raw.githubusercontent.com/camilalaranjeira/python-intermediario/main/fifa-wc/matches_1991_2023.csv\n",
    "\n",
    "Para relembrar, essas são as colunas do dataframe:\n",
    "```\n",
    "Data columns (total 21 columns):\n",
    " #   Column             Non-Null Count  Dtype         \n",
    "---  ------             --------------  -----         \n",
    " 0   time_1             1312 non-null   string        \n",
    " 1   time_2             1312 non-null   string        \n",
    " 2   gols_1             1312 non-null   int64         \n",
    " 3   gols_2             1312 non-null   int64         \n",
    " 4   data               1312 non-null   datetime64[ns]\n",
    " 5   ano                1312 non-null   int64         \n",
    " 6   país_sede          1312 non-null   string        \n",
    " 7   comparecimento     1312 non-null   int64         \n",
    " 8   resultado          1312 non-null   string        \n",
    " 9   rodada             1312 non-null   category      \n",
    " 10  gols_1_detalhes    970 non-null    string        \n",
    " 11  gols_2_detalhes    771 non-null    string        \n",
    " 12  gols_1_contra      57 non-null     string        \n",
    " 13  gols_2_contra      30 non-null     string        \n",
    " 14  gols_1_penalti     170 non-null    string        \n",
    " 15  gols_2_penalti     119 non-null    string        \n",
    " 16  cartao_vermelho_1  59 non-null     string        \n",
    " 17  cartao_vermelho_2  65 non-null     string        \n",
    " 18  cartao_amarelo_1   834 non-null    string        \n",
    " 19  cartao_amarelo_2   857 non-null    string        \n",
    " 20  copa               1312 non-null   string \n",
    "```"
   ]
  },
  {
   "cell_type": "markdown",
   "metadata": {},
   "source": [
    "#### Q1.\n",
    "Realize todos os imports necessários para executar as três bibliotecas de visualização que conhecemos:\n",
    "* Matplotlib (lembre-se do comando mágico)\n",
    "* Seaborn\n",
    "* Plotly\n",
    "\n",
    "Para cada uma delas, altere o tema padrão de visualização. "
   ]
  },
  {
   "cell_type": "code",
   "execution_count": null,
   "metadata": {},
   "outputs": [
    {
     "data": {
      "text/html": [
       "<div>\n",
       "<style scoped>\n",
       "    .dataframe tbody tr th:only-of-type {\n",
       "        vertical-align: middle;\n",
       "    }\n",
       "\n",
       "    .dataframe tbody tr th {\n",
       "        vertical-align: top;\n",
       "    }\n",
       "\n",
       "    .dataframe thead th {\n",
       "        text-align: right;\n",
       "    }\n",
       "</style>\n",
       "<table border=\"1\" class=\"dataframe\">\n",
       "  <thead>\n",
       "    <tr style=\"text-align: right;\">\n",
       "      <th></th>\n",
       "      <th>time_1</th>\n",
       "      <th>time_2</th>\n",
       "      <th>gols_1</th>\n",
       "      <th>gols_2</th>\n",
       "      <th>data</th>\n",
       "      <th>ano</th>\n",
       "      <th>país_sede</th>\n",
       "      <th>comparecimento</th>\n",
       "      <th>resultado</th>\n",
       "      <th>rodada</th>\n",
       "      <th>gols_1_detalhes</th>\n",
       "      <th>gols_2_detalhes</th>\n",
       "      <th>gols_1_contra</th>\n",
       "      <th>gols_2_contra</th>\n",
       "      <th>gols_1_penalti</th>\n",
       "      <th>gols_2_penalti</th>\n",
       "      <th>cartao_vermelho_1</th>\n",
       "      <th>cartao_vermelho_2</th>\n",
       "      <th>cartao_amarelo_1</th>\n",
       "      <th>cartao_amarelo_2</th>\n",
       "      <th>copa</th>\n",
       "    </tr>\n",
       "  </thead>\n",
       "  <tbody>\n",
       "    <tr>\n",
       "      <th>0</th>\n",
       "      <td>Spain</td>\n",
       "      <td>England</td>\n",
       "      <td>1</td>\n",
       "      <td>0</td>\n",
       "      <td>2023-08-20</td>\n",
       "      <td>2023</td>\n",
       "      <td>Australia, New Zealand</td>\n",
       "      <td>75784</td>\n",
       "      <td>1–0</td>\n",
       "      <td>Final</td>\n",
       "      <td>Olga Carmona · 29’</td>\n",
       "      <td>NaN</td>\n",
       "      <td>NaN</td>\n",
       "      <td>NaN</td>\n",
       "      <td>NaN</td>\n",
       "      <td>NaN</td>\n",
       "      <td>NaN</td>\n",
       "      <td>NaN</td>\n",
       "      <td>['78’|1:0|Salma Paralluelo']</td>\n",
       "      <td>['55’|1:0|Lauren Hemp']</td>\n",
       "      <td>Feminina</td>\n",
       "    </tr>\n",
       "    <tr>\n",
       "      <th>1</th>\n",
       "      <td>Sweden</td>\n",
       "      <td>Australia</td>\n",
       "      <td>2</td>\n",
       "      <td>0</td>\n",
       "      <td>2023-08-19</td>\n",
       "      <td>2023</td>\n",
       "      <td>Australia, New Zealand</td>\n",
       "      <td>49461</td>\n",
       "      <td>2–0</td>\n",
       "      <td>Third-place match</td>\n",
       "      <td>Kosovare Asllani · 62’</td>\n",
       "      <td>NaN</td>\n",
       "      <td>NaN</td>\n",
       "      <td>NaN</td>\n",
       "      <td>Fridolina Rolfö (P) · 30’</td>\n",
       "      <td>NaN</td>\n",
       "      <td>NaN</td>\n",
       "      <td>NaN</td>\n",
       "      <td>['88’|2:0|Elin Rubensson', '90+5’|2:0|Lina Hur...</td>\n",
       "      <td>['45+1’|1:0|Katrina Gorry']</td>\n",
       "      <td>Feminina</td>\n",
       "    </tr>\n",
       "    <tr>\n",
       "      <th>2</th>\n",
       "      <td>Australia</td>\n",
       "      <td>England</td>\n",
       "      <td>1</td>\n",
       "      <td>3</td>\n",
       "      <td>2023-08-16</td>\n",
       "      <td>2023</td>\n",
       "      <td>Australia, New Zealand</td>\n",
       "      <td>75784</td>\n",
       "      <td>1–3</td>\n",
       "      <td>Semi-finals</td>\n",
       "      <td>Sam Kerr · 63’</td>\n",
       "      <td>Ella Toone · 36’|Lauren Hemp · 71’|Alessia Rus...</td>\n",
       "      <td>NaN</td>\n",
       "      <td>NaN</td>\n",
       "      <td>NaN</td>\n",
       "      <td>NaN</td>\n",
       "      <td>NaN</td>\n",
       "      <td>NaN</td>\n",
       "      <td>NaN</td>\n",
       "      <td>['10’|0:0|Alex Greenwood', '90+5’|1:3|Chloe Ke...</td>\n",
       "      <td>Feminina</td>\n",
       "    </tr>\n",
       "    <tr>\n",
       "      <th>3</th>\n",
       "      <td>Spain</td>\n",
       "      <td>Sweden</td>\n",
       "      <td>2</td>\n",
       "      <td>1</td>\n",
       "      <td>2023-08-15</td>\n",
       "      <td>2023</td>\n",
       "      <td>Australia, New Zealand</td>\n",
       "      <td>43217</td>\n",
       "      <td>2–1</td>\n",
       "      <td>Semi-finals</td>\n",
       "      <td>Salma Paralluelo · 81’|Olga Carmona · 89’</td>\n",
       "      <td>Rebecka Blomqvist · 88’</td>\n",
       "      <td>NaN</td>\n",
       "      <td>NaN</td>\n",
       "      <td>NaN</td>\n",
       "      <td>NaN</td>\n",
       "      <td>NaN</td>\n",
       "      <td>NaN</td>\n",
       "      <td>NaN</td>\n",
       "      <td>NaN</td>\n",
       "      <td>Feminina</td>\n",
       "    </tr>\n",
       "    <tr>\n",
       "      <th>4</th>\n",
       "      <td>Australia</td>\n",
       "      <td>France</td>\n",
       "      <td>0</td>\n",
       "      <td>0</td>\n",
       "      <td>2023-08-12</td>\n",
       "      <td>2023</td>\n",
       "      <td>Australia, New Zealand</td>\n",
       "      <td>49461</td>\n",
       "      <td>(7) 0–0 (6)</td>\n",
       "      <td>Quarter-finals</td>\n",
       "      <td>NaN</td>\n",
       "      <td>NaN</td>\n",
       "      <td>NaN</td>\n",
       "      <td>NaN</td>\n",
       "      <td>NaN</td>\n",
       "      <td>NaN</td>\n",
       "      <td>NaN</td>\n",
       "      <td>NaN</td>\n",
       "      <td>['92’|0:0|Katrina Gorry']</td>\n",
       "      <td>NaN</td>\n",
       "      <td>Feminina</td>\n",
       "    </tr>\n",
       "    <tr>\n",
       "      <th>...</th>\n",
       "      <td>...</td>\n",
       "      <td>...</td>\n",
       "      <td>...</td>\n",
       "      <td>...</td>\n",
       "      <td>...</td>\n",
       "      <td>...</td>\n",
       "      <td>...</td>\n",
       "      <td>...</td>\n",
       "      <td>...</td>\n",
       "      <td>...</td>\n",
       "      <td>...</td>\n",
       "      <td>...</td>\n",
       "      <td>...</td>\n",
       "      <td>...</td>\n",
       "      <td>...</td>\n",
       "      <td>...</td>\n",
       "      <td>...</td>\n",
       "      <td>...</td>\n",
       "      <td>...</td>\n",
       "      <td>...</td>\n",
       "      <td>...</td>\n",
       "    </tr>\n",
       "    <tr>\n",
       "      <th>1307</th>\n",
       "      <td>Argentina</td>\n",
       "      <td>France</td>\n",
       "      <td>1</td>\n",
       "      <td>0</td>\n",
       "      <td>1930-07-15</td>\n",
       "      <td>1930</td>\n",
       "      <td>Uruguay</td>\n",
       "      <td>23409</td>\n",
       "      <td>1–0</td>\n",
       "      <td>Group stage</td>\n",
       "      <td>Luis Monti · 81</td>\n",
       "      <td>NaN</td>\n",
       "      <td>NaN</td>\n",
       "      <td>NaN</td>\n",
       "      <td>NaN</td>\n",
       "      <td>NaN</td>\n",
       "      <td>NaN</td>\n",
       "      <td>NaN</td>\n",
       "      <td>NaN</td>\n",
       "      <td>NaN</td>\n",
       "      <td>Masculina</td>\n",
       "    </tr>\n",
       "    <tr>\n",
       "      <th>1308</th>\n",
       "      <td>Yugoslavia</td>\n",
       "      <td>Brazil</td>\n",
       "      <td>2</td>\n",
       "      <td>1</td>\n",
       "      <td>1930-07-14</td>\n",
       "      <td>1930</td>\n",
       "      <td>Uruguay</td>\n",
       "      <td>24059</td>\n",
       "      <td>2–1</td>\n",
       "      <td>Group stage</td>\n",
       "      <td>Aleksandar Tirnanić · 21|Ivan Bek · 30</td>\n",
       "      <td>Preguinho · 62</td>\n",
       "      <td>NaN</td>\n",
       "      <td>NaN</td>\n",
       "      <td>NaN</td>\n",
       "      <td>NaN</td>\n",
       "      <td>NaN</td>\n",
       "      <td>NaN</td>\n",
       "      <td>NaN</td>\n",
       "      <td>NaN</td>\n",
       "      <td>Masculina</td>\n",
       "    </tr>\n",
       "    <tr>\n",
       "      <th>1309</th>\n",
       "      <td>Romania</td>\n",
       "      <td>Peru</td>\n",
       "      <td>3</td>\n",
       "      <td>1</td>\n",
       "      <td>1930-07-14</td>\n",
       "      <td>1930</td>\n",
       "      <td>Uruguay</td>\n",
       "      <td>2549</td>\n",
       "      <td>3–1</td>\n",
       "      <td>Group stage</td>\n",
       "      <td>Adalbert Deșu · 1|Constantin Stanciu · 79|Nico...</td>\n",
       "      <td>Luis de Souza Ferreira · 75</td>\n",
       "      <td>NaN</td>\n",
       "      <td>NaN</td>\n",
       "      <td>NaN</td>\n",
       "      <td>NaN</td>\n",
       "      <td>NaN</td>\n",
       "      <td>Plácido Galindo · 70</td>\n",
       "      <td>NaN</td>\n",
       "      <td>NaN</td>\n",
       "      <td>Masculina</td>\n",
       "    </tr>\n",
       "    <tr>\n",
       "      <th>1310</th>\n",
       "      <td>United States</td>\n",
       "      <td>Belgium</td>\n",
       "      <td>3</td>\n",
       "      <td>0</td>\n",
       "      <td>1930-07-13</td>\n",
       "      <td>1930</td>\n",
       "      <td>Uruguay</td>\n",
       "      <td>18346</td>\n",
       "      <td>3–0</td>\n",
       "      <td>Group stage</td>\n",
       "      <td>Bart McGhee · 23|Tom Florie · 45|Bert Patenaud...</td>\n",
       "      <td>NaN</td>\n",
       "      <td>NaN</td>\n",
       "      <td>NaN</td>\n",
       "      <td>NaN</td>\n",
       "      <td>NaN</td>\n",
       "      <td>NaN</td>\n",
       "      <td>NaN</td>\n",
       "      <td>NaN</td>\n",
       "      <td>NaN</td>\n",
       "      <td>Masculina</td>\n",
       "    </tr>\n",
       "    <tr>\n",
       "      <th>1311</th>\n",
       "      <td>France</td>\n",
       "      <td>Mexico</td>\n",
       "      <td>4</td>\n",
       "      <td>1</td>\n",
       "      <td>1930-07-13</td>\n",
       "      <td>1930</td>\n",
       "      <td>Uruguay</td>\n",
       "      <td>4444</td>\n",
       "      <td>4–1</td>\n",
       "      <td>Group stage</td>\n",
       "      <td>Lucien Laurent · 19|Marcel Langiller · 40|Andr...</td>\n",
       "      <td>Juan Carreño · 70</td>\n",
       "      <td>NaN</td>\n",
       "      <td>NaN</td>\n",
       "      <td>NaN</td>\n",
       "      <td>NaN</td>\n",
       "      <td>NaN</td>\n",
       "      <td>NaN</td>\n",
       "      <td>NaN</td>\n",
       "      <td>NaN</td>\n",
       "      <td>Masculina</td>\n",
       "    </tr>\n",
       "  </tbody>\n",
       "</table>\n",
       "<p>1312 rows × 21 columns</p>\n",
       "</div>"
      ],
      "text/plain": [
       "             time_1     time_2  gols_1  gols_2        data   ano  \\\n",
       "0             Spain    England       1       0  2023-08-20  2023   \n",
       "1            Sweden  Australia       2       0  2023-08-19  2023   \n",
       "2         Australia    England       1       3  2023-08-16  2023   \n",
       "3             Spain     Sweden       2       1  2023-08-15  2023   \n",
       "4         Australia     France       0       0  2023-08-12  2023   \n",
       "...             ...        ...     ...     ...         ...   ...   \n",
       "1307      Argentina     France       1       0  1930-07-15  1930   \n",
       "1308     Yugoslavia     Brazil       2       1  1930-07-14  1930   \n",
       "1309        Romania       Peru       3       1  1930-07-14  1930   \n",
       "1310  United States    Belgium       3       0  1930-07-13  1930   \n",
       "1311         France     Mexico       4       1  1930-07-13  1930   \n",
       "\n",
       "                   país_sede  comparecimento    resultado             rodada  \\\n",
       "0     Australia, New Zealand           75784          1–0              Final   \n",
       "1     Australia, New Zealand           49461          2–0  Third-place match   \n",
       "2     Australia, New Zealand           75784          1–3        Semi-finals   \n",
       "3     Australia, New Zealand           43217          2–1        Semi-finals   \n",
       "4     Australia, New Zealand           49461  (7) 0–0 (6)     Quarter-finals   \n",
       "...                      ...             ...          ...                ...   \n",
       "1307                 Uruguay           23409          1–0        Group stage   \n",
       "1308                 Uruguay           24059          2–1        Group stage   \n",
       "1309                 Uruguay            2549          3–1        Group stage   \n",
       "1310                 Uruguay           18346          3–0        Group stage   \n",
       "1311                 Uruguay            4444          4–1        Group stage   \n",
       "\n",
       "                                        gols_1_detalhes  \\\n",
       "0                                    Olga Carmona · 29’   \n",
       "1                                Kosovare Asllani · 62’   \n",
       "2                                        Sam Kerr · 63’   \n",
       "3             Salma Paralluelo · 81’|Olga Carmona · 89’   \n",
       "4                                                   NaN   \n",
       "...                                                 ...   \n",
       "1307                                    Luis Monti · 81   \n",
       "1308             Aleksandar Tirnanić · 21|Ivan Bek · 30   \n",
       "1309  Adalbert Deșu · 1|Constantin Stanciu · 79|Nico...   \n",
       "1310  Bart McGhee · 23|Tom Florie · 45|Bert Patenaud...   \n",
       "1311  Lucien Laurent · 19|Marcel Langiller · 40|Andr...   \n",
       "\n",
       "                                        gols_2_detalhes gols_1_contra  \\\n",
       "0                                                   NaN           NaN   \n",
       "1                                                   NaN           NaN   \n",
       "2     Ella Toone · 36’|Lauren Hemp · 71’|Alessia Rus...           NaN   \n",
       "3                               Rebecka Blomqvist · 88’           NaN   \n",
       "4                                                   NaN           NaN   \n",
       "...                                                 ...           ...   \n",
       "1307                                                NaN           NaN   \n",
       "1308                                     Preguinho · 62           NaN   \n",
       "1309                        Luis de Souza Ferreira · 75           NaN   \n",
       "1310                                                NaN           NaN   \n",
       "1311                                  Juan Carreño · 70           NaN   \n",
       "\n",
       "     gols_2_contra             gols_1_penalti gols_2_penalti  \\\n",
       "0              NaN                        NaN            NaN   \n",
       "1              NaN  Fridolina Rolfö (P) · 30’            NaN   \n",
       "2              NaN                        NaN            NaN   \n",
       "3              NaN                        NaN            NaN   \n",
       "4              NaN                        NaN            NaN   \n",
       "...            ...                        ...            ...   \n",
       "1307           NaN                        NaN            NaN   \n",
       "1308           NaN                        NaN            NaN   \n",
       "1309           NaN                        NaN            NaN   \n",
       "1310           NaN                        NaN            NaN   \n",
       "1311           NaN                        NaN            NaN   \n",
       "\n",
       "     cartao_vermelho_1     cartao_vermelho_2  \\\n",
       "0                  NaN                   NaN   \n",
       "1                  NaN                   NaN   \n",
       "2                  NaN                   NaN   \n",
       "3                  NaN                   NaN   \n",
       "4                  NaN                   NaN   \n",
       "...                ...                   ...   \n",
       "1307               NaN                   NaN   \n",
       "1308               NaN                   NaN   \n",
       "1309               NaN  Plácido Galindo · 70   \n",
       "1310               NaN                   NaN   \n",
       "1311               NaN                   NaN   \n",
       "\n",
       "                                       cartao_amarelo_1  \\\n",
       "0                          ['78’|1:0|Salma Paralluelo']   \n",
       "1     ['88’|2:0|Elin Rubensson', '90+5’|2:0|Lina Hur...   \n",
       "2                                                   NaN   \n",
       "3                                                   NaN   \n",
       "4                             ['92’|0:0|Katrina Gorry']   \n",
       "...                                                 ...   \n",
       "1307                                                NaN   \n",
       "1308                                                NaN   \n",
       "1309                                                NaN   \n",
       "1310                                                NaN   \n",
       "1311                                                NaN   \n",
       "\n",
       "                                       cartao_amarelo_2       copa  \n",
       "0                               ['55’|1:0|Lauren Hemp']   Feminina  \n",
       "1                           ['45+1’|1:0|Katrina Gorry']   Feminina  \n",
       "2     ['10’|0:0|Alex Greenwood', '90+5’|1:3|Chloe Ke...   Feminina  \n",
       "3                                                   NaN   Feminina  \n",
       "4                                                   NaN   Feminina  \n",
       "...                                                 ...        ...  \n",
       "1307                                                NaN  Masculina  \n",
       "1308                                                NaN  Masculina  \n",
       "1309                                                NaN  Masculina  \n",
       "1310                                                NaN  Masculina  \n",
       "1311                                                NaN  Masculina  \n",
       "\n",
       "[1312 rows x 21 columns]"
      ]
     },
     "metadata": {},
     "output_type": "display_data"
    }
   ],
   "source": [
    "import pandas as pd\n",
    "import matplotlib.pyplot as plt\n",
    "import seaborn as sns\n",
    "import plotly.express as px\n",
    "pd.set_option('display.max_columns',None)\n",
    "pd.set_option('display.max_rows',12)\n",
    "\n",
    "# Configuração do Matplotlib\n",
    "plt.style.use('ggplot')\n",
    "\n",
    "# Configuração do Seaborn\n",
    "sns.set_theme(style='darkgrid')\n",
    "\n",
    "wcwomen_df = pd.read_csv('matches_1991_2023.csv')\n",
    "wcmen_df   = pd.read_csv('matches_1930_2022.csv')\n",
    "wc = pd.concat((wcwomen_df,wcmen_df)).reset_index()\n",
    "\n",
    "nomes_traduzidos = {'home_team': 'time_1', 'away_team': 'time_2', 'home_score': 'gols_1', 'away_score': 'gols_2',\n",
    "                    'Date': 'data', 'Year': 'ano', 'Host': 'país_sede', 'Attendance': 'comparecimento',\n",
    "                    'Score': 'resultado', 'Round': 'rodada', 'home_goal': 'gols_1_detalhes', 'away_goal': 'gols_2_detalhes',\n",
    "                    'home_own_goal': 'gols_1_contra', 'away_own_goal': 'gols_2_contra',\n",
    "                    'home_penalty_goal': 'gols_1_penalti', 'away_penalty_goal': 'gols_2_penalti',\n",
    "                    'home_red_card': 'cartao_vermelho_1', 'away_red_card': 'cartao_vermelho_2',\n",
    "                    'home_yellow_card_long': 'cartao_amarelo_1', 'away_yellow_card_long': 'cartao_amarelo_2'}\n",
    "\n",
    "wc = wc.loc[:, nomes_traduzidos.keys()]\n",
    "wc.columns = nomes_traduzidos.values()\n",
    "\n",
    "copa = wc['ano'].apply( lambda x: 'Masculina' if x % 2 == 0 else 'Feminina').astype('string')\n",
    "wc['copa'] = copa\n",
    "display(wc)\n",
    "\n"
   ]
  },
  {
   "cell_type": "markdown",
   "metadata": {
    "vscode": {
     "languageId": "plaintext"
    }
   },
   "source": [
    "#### Q2.\n",
    "Sobre os dados de copa do mundo, qual a distribuição de público presente nos jogos? Isso pode ser respondido com um histograma com os dados da coluna `comparecimento`.  \n",
    "\n",
    "Lembre-se que alguns jogos estavam com público 0 incorretamente, que tal remover essas ocorrências para não atrapalhar sua visualzação?\n",
    "\n",
    "Você deve implementar essa visualização nas três bibliotecas que vimos:\n",
    "* Matplotlib\n",
    "* Seaborn\n",
    "* Plotly\n",
    "\n",
    "Garanta que o gráfico tenha pelo menos os atributos de título e rótulos de dimensão."
   ]
  },
  {
   "cell_type": "code",
   "execution_count": 27,
   "metadata": {},
   "outputs": [
    {
     "data": {
      "image/png": "[encoded data removed]",
      "text/plain": [
       "<Figure size 1000x500 with 1 Axes>"
      ]
     },
     "metadata": {},
     "output_type": "display_data"
    }
   ],
   "source": [
    "#### Solução com matplotlib\n",
    "\n",
    "plt.figure(figsize=(10, 5))\n",
    "plt.hist(wc['comparecimento'], bins=30, edgecolor='black', alpha=0.7)\n",
    "plt.title('Distribuição de Público nos Jogos da Copa do Mundo - Matplotlib')\n",
    "plt.xlabel('Comparecimento')\n",
    "plt.ylabel('Frequência')\n",
    "plt.show()\n"
   ]
  },
  {
   "cell_type": "code",
   "execution_count": 29,
   "metadata": {},
   "outputs": [
    {
     "data": {
      "image/png": "[encoded data removed]",
      "text/plain": [
       "<Figure size 1000x500 with 1 Axes>"
      ]
     },
     "metadata": {},
     "output_type": "display_data"
    }
   ],
   "source": [
    "#### solução com seaborn\n",
    "plt.figure(figsize=(10, 5))\n",
    "sns.histplot(wc['comparecimento'], bins=30, kde=True)\n",
    "plt.title('Distribuição de Público nos Jogos da Copa do Mundo - Seaborn')\n",
    "plt.xlabel('Comparecimento')\n",
    "plt.ylabel('Frequência')\n",
    "plt.show()"
   ]
  },
  {
   "cell_type": "code",
   "execution_count": 31,
   "metadata": {},
   "outputs": [
    {
     "data": {
      "application/vnd.plotly.v1+json": {
       "config": {
        "plotlyServerURL": "https://plot.ly"
       },
       "data": [
        {
         "alignmentgroup": "True",
         "bingroup": "x",
         "hovertemplate": "comparecimento=%{x}<br>count=%{y}<extra></extra>",
         "legendgroup": "",
         "marker": {
          "color": "#636efa",
          "pattern": {
           "shape": ""
          }
         },
         "name": "",
         "nbinsx": 30,
         "offsetgroup": "",
         "orientation": "v",
         "showlegend": false,
         "type": "histogram",
         "x": [
          75784,
          49461,
          75784,
          43217,
          49461,
          75784,
          32021,
          43217,
          27706,
          13557,
          49461,
          75784,
          40233,
          27706,
          43217,
          33042,
          17342,
          38945,
          14967,
          17907,
          27638,
          40498,
          8215,
          40958,
          17897,
          13497,
          20957,
          8117,
          24884,
          27706,
          12886,
          25947,
          34697,
          40499,
          29143,
          49378,
          15987,
          8834,
          40439,
          12675,
          27312,
          6645,
          49156,
          6992,
          20983,
          17065,
          24323,
          32357,
          10769,
          30889,
          27256,
          13142,
          18317,
          11991,
          39045,
          41107,
          16111,
          44369,
          16989,
          21410,
          13711,
          22966,
          42137,
          75784,
          57900,
          20316,
          48452,
          53512,
          22600,
          25301,
          45595,
          21111,
          17492,
          21076,
          19633,
          38078,
          20148,
          0,
          17988,
          0,
          19277,
          8009,
          22418,
          13567,
          14319,
          28205,
          21669,
          17402,
          15502,
          11814,
          13034,
          28267,
          9354,
          45594,
          22423,
          14856,
          13201,
          12016,
          20294,
          17032,
          20011,
          11252,
          20761,
          34872,
          10654,
          15875,
          18591,
          25055,
          10710,
          15380,
          17668,
          13188,
          15283,
          12044,
          11058,
          45261,
          53341,
          21483,
          31467,
          51176,
          19814,
          54027,
          24859,
          24141,
          28717,
          19829,
          19412,
          12054,
          53855,
          15518,
          22486,
          15958,
          9543,
          13862,
          21562,
          21562,
          10177,
          14522,
          52193,
          10177,
          26191,
          7147,
          26191,
          45420,
          13138,
          28623,
          13138,
          28623,
          32716,
          31441,
          31441,
          32716,
          35544,
          18967,
          18987,
          35544,
          11686,
          10175,
          11686,
          10175,
          31148,
          25942,
          31148,
          25942,
          20953,
          20953,
          53058,
          53058,
          48817,
          25515,
          25676,
          45434,
          24605,
          25598,
          26395,
          26067,
          0,
          0,
          0,
          0,
          0,
          0,
          0,
          0,
          0,
          0,
          0,
          0,
          0,
          0,
          0,
          0,
          0,
          0,
          0,
          0,
          0,
          0,
          0,
          0,
          32068,
          31000,
          47818,
          53819,
          52000,
          35061,
          37200,
          29586,
          43817,
          29300,
          43817,
          56208,
          33196,
          26100,
          39817,
          30730,
          33835,
          54000,
          54000,
          33835,
          35600,
          27730,
          27730,
          35600,
          33500,
          25952,
          30752,
          50800,
          35100,
          27146,
          21740,
          28098,
          26137,
          25253,
          27623,
          27623,
          20021,
          20021,
          25103,
          25103,
          22828,
          22828,
          19132,
          19132,
          17618,
          14356,
          14356,
          17618,
          13929,
          31553,
          31553,
          13929,
          15490,
          15490,
          16316,
          15529,
          35000,
          34144,
          8500,
          10027,
          13486,
          24347,
          16340,
          16404,
          90185,
          90185,
          73123,
          28986,
          54642,
          54642,
          21411,
          21411,
          22109,
          22109,
          50484,
          50484,
          29401,
          29401,
          34256,
          34256,
          65080,
          20129,
          65080,
          20129,
          16448,
          17668,
          17668,
          16448,
          17100,
          14873,
          14867,
          17100,
          78972,
          78972,
          23298,
          23298,
          17158,
          4335,
          2893,
          3693,
          3756,
          4655,
          2317,
          7537,
          2715,
          1843,
          1619,
          1150,
          7811,
          3203,
          2740,
          5520,
          1500,
          250,
          5855,
          2286,
          4635,
          655,
          4344,
          1500,
          14500,
          3824,
          63000,
          20000,
          16000,
          20000,
          12000,
          12000,
          13000,
          55000,
          14000,
          12000,
          14000,
          14000,
          15500,
          12000,
          12000,
          12000,
          10000,
          15500,
          14000,
          27000,
          14000,
          14000,
          11000,
          14000,
          14000,
          65000,
          88966,
          44137,
          68294,
          88966,
          44198,
          68895,
          43893,
          88235,
          44667,
          83720,
          42523,
          43847,
          40989,
          65985,
          44846,
          45032,
          44097,
          43443,
          85986,
          41378,
          43102,
          43984,
          67054,
          44851,
          41232,
          43627,
          84985,
          44089,
          44569,
          66784,
          42127,
          44297,
          39789,
          43983,
          43649,
          88668,
          41479,
          43738,
          44374,
          68895,
          41823,
          44259,
          42860,
          88966,
          40875,
          41797,
          44833,
          68463,
          39089,
          41663,
          42662,
          88103,
          59407,
          42608,
          40013,
          40432,
          88012,
          42925,
          39369,
          40875,
          45334,
          41721,
          43418,
          67372,
          78011,
          64406,
          78011,
          64286,
          39991,
          44287,
          43319,
          42873,
          64042,
          44190,
          41970,
          41466,
          78011,
          40851,
          42873,
          44287,
          42189,
          41970,
          33973,
          37168,
          41835,
          33061,
          43319,
          44190,
          44073,
          78011,
          43472,
          64468,
          36823,
          41970,
          33973,
          41685,
          43319,
          32572,
          42873,
          44190,
          43472,
          44287,
          64468,
          40904,
          33167,
          40727,
          32789,
          43319,
          78011,
          42678,
          42718,
          40842,
          44190,
          64468,
          42300,
          43257,
          41064,
          41432,
          78011,
          43109,
          41279,
          44190,
          40502,
          31136,
          27015,
          62548,
          43866,
          78011,
          74738,
          68034,
          63267,
          58141,
          68551,
          51179,
          74240,
          60342,
          63255,
          51227,
          67882,
          43063,
          58817,
          41242,
          57714,
          73804,
          41876,
          67540,
          61397,
          39311,
          48011,
          43285,
          40322,
          73749,
          57823,
          39706,
          40340,
          59095,
          39375,
          62996,
          41212,
          69112,
          73819,
          42732,
          40123,
          57698,
          59621,
          40499,
          40285,
          51003,
          39224,
          68748,
          62575,
          39485,
          42877,
          74101,
          39982,
          56800,
          60342,
          37603,
          51081,
          39081,
          39760,
          68351,
          43012,
          74738,
          57174,
          58679,
          39800,
          40267,
          39216,
          48173,
          40275,
          62103,
          84490,
          36254,
          60960,
          62479,
          64100,
          55359,
          40186,
          84017,
          36742,
          62955,
          61962,
          54096,
          40510,
          84377,
          30597,
          34976,
          62712,
          34763,
          41958,
          28042,
          34850,
          53412,
          27967,
          63093,
          36893,
          35827,
          83391,
          37836,
          33425,
          39415,
          61874,
          38891,
          63644,
          34872,
          54386,
          26643,
          38229,
          84455,
          62010,
          34812,
          38074,
          38294,
          45573,
          64100,
          82174,
          31593,
          35370,
          32664,
          62453,
          42658,
          23871,
          37034,
          54331,
          83465,
          30620,
          62869,
          30325,
          38833,
          62660,
          31513,
          55686,
          38646,
          84490,
          64100,
          69000,
          52000,
          66000,
          65000,
          52000,
          48000,
          72000,
          50000,
          65000,
          43000,
          46000,
          45000,
          52000,
          41000,
          66000,
          43000,
          46000,
          72000,
          45000,
          43000,
          41000,
          50000,
          65000,
          52000,
          52000,
          38000,
          66000,
          48000,
          43000,
          72000,
          46000,
          45000,
          65000,
          50000,
          52000,
          41000,
          66000,
          43000,
          48000,
          45000,
          46000,
          52000,
          52000,
          43000,
          50000,
          41000,
          72000,
          43000,
          66000,
          65000,
          48000,
          52000,
          72000,
          46000,
          52000,
          43000,
          37216,
          41000,
          45000,
          48000,
          62959,
          49480,
          64950,
          52000,
          69029,
          63483,
          61058,
          65625,
          42114,
          44233,
          47436,
          37337,
          45666,
          38588,
          36380,
          40440,
          39747,
          38926,
          25176,
          40582,
          45213,
          46640,
          50239,
          26482,
          38524,
          43605,
          39291,
          65862,
          45777,
          44864,
          31024,
          30176,
          48100,
          33681,
          65320,
          47085,
          60778,
          39700,
          31000,
          45610,
          42299,
          66108,
          47226,
          36472,
          36750,
          36194,
          24000,
          35927,
          43500,
          52328,
          38070,
          30957,
          37306,
          35854,
          27217,
          55256,
          48760,
          32239,
          33842,
          31081,
          34050,
          25186,
          52721,
          28588,
          33679,
          30157,
          32218,
          62561,
          80000,
          44000,
          80000,
          60000,
          60000,
          43300,
          80000,
          49500,
          31800,
          30600,
          29800,
          33000,
          31800,
          77000,
          55000,
          45500,
          31800,
          39100,
          80000,
          42000,
          30600,
          45500,
          38500,
          35500,
          31800,
          39100,
          41275,
          33400,
          80000,
          39500,
          57000,
          36000,
          35500,
          33140,
          41275,
          45500,
          43300,
          35500,
          31800,
          55000,
          48000,
          36000,
          33500,
          80000,
          36000,
          35500,
          31800,
          38500,
          54587,
          43300,
          49000,
          33500,
          36000,
          38100,
          38000,
          39100,
          77000,
          27650,
          38100,
          55000,
          35200,
          36500,
          80000,
          29750,
          94194,
          91500,
          74110,
          91856,
          72000,
          83500,
          53400,
          63500,
          54367,
          71030,
          61355,
          84147,
          60277,
          90469,
          60246,
          53121,
          53001,
          63998,
          60578,
          52959,
          52535,
          72404,
          74914,
          77217,
          63998,
          63089,
          63160,
          93869,
          83401,
          62387,
          76322,
          54453,
          60790,
          83401,
          71528,
          74624,
          54453,
          61428,
          93869,
          54456,
          63113,
          44132,
          81061,
          50535,
          61219,
          52395,
          93194,
          73425,
          75338,
          91856,
          63117,
          56247,
          73603,
          51426,
          62628,
          59978,
          73347,
          55205,
          38971,
          73303,
          35500,
          34520,
          31818,
          73303,
          61381,
          74559,
          50026,
          47673,
          35950,
          29039,
          33288,
          34959,
          30223,
          62502,
          72510,
          27833,
          34857,
          73303,
          52733,
          37307,
          33288,
          33759,
          32733,
          58007,
          35267,
          31823,
          38962,
          71169,
          32257,
          38687,
          73423,
          35713,
          55759,
          32790,
          33288,
          30867,
          35238,
          33266,
          74765,
          62628,
          30791,
          42907,
          73303,
          73780,
          114600,
          21000,
          45000,
          114500,
          114580,
          45000,
          65000,
          41700,
          98728,
          38500,
          70000,
          19800,
          45000,
          26000,
          114580,
          32277,
          20000,
          36000,
          23980,
          51000,
          16000,
          103763,
          22700,
          28000,
          65000,
          20000,
          14200,
          31420,
          30000,
          20000,
          26500,
          114600,
          28000,
          19915,
          48000,
          13800,
          20200,
          32000,
          36540,
          45000,
          24000,
          30500,
          18000,
          110000,
          22000,
          23000,
          16500,
          60000,
          19900,
          35748,
          65500,
          96000,
          90000,
          28000,
          50000,
          70000,
          44000,
          75000,
          37000,
          65000,
          44000,
          90089,
          20000,
          45000,
          43000,
          75000,
          37000,
          65000,
          39700,
          41000,
          49562,
          28000,
          16000,
          25000,
          20000,
          32500,
          43000,
          25000,
          37000,
          45000,
          22000,
          30043,
          15000,
          42000,
          41123,
          48000,
          19000,
          19000,
          15000,
          25000,
          47379,
          32093,
          22500,
          25000,
          25000,
          44172,
          42000,
          49562,
          11000,
          23000,
          36000,
          33000,
          68000,
          95000,
          71483,
          69659,
          67433,
          38318,
          39586,
          37315,
          35288,
          40750,
          66695,
          37326,
          25050,
          67547,
          31278,
          37091,
          35221,
          42132,
          21262,
          35130,
          23127,
          22651,
          30667,
          71712,
          41424,
          34771,
          28125,
          7938,
          26533,
          35258,
          9624,
          71666,
          32569,
          40841,
          37927,
          33431,
          42373,
          17396,
          71615,
          67579,
          78200,
          77100,
          62000,
          53700,
          54254,
          41300,
          58000,
          39400,
          68348,
          67800,
          67385,
          59863,
          44955,
          56548,
          53300,
          70100,
          28300,
          25900,
          56000,
          17400,
          36200,
          60200,
          25300,
          13400,
          53700,
          70100,
          53300,
          31700,
          28300,
          62000,
          55100,
          23800,
          53000,
          32700,
          81100,
          17000,
          27000,
          62000,
          107412,
          104403,
          102444,
          51261,
          54233,
          26851,
          26085,
          23357,
          108192,
          9890,
          12299,
          49292,
          17875,
          50804,
          18163,
          89979,
          103058,
          66843,
          12710,
          9624,
          56818,
          29968,
          95261,
          13537,
          92205,
          52897,
          13433,
          12942,
          50560,
          13765,
          20654,
          107160,
          96924,
          87696,
          94493,
          38273,
          40248,
          90584,
          26844,
          40007,
          98270,
          24129,
          42187,
          16027,
          61112,
          32127,
          58479,
          17829,
          46587,
          27793,
          25438,
          92570,
          32028,
          45662,
          51387,
          13792,
          42738,
          69237,
          27199,
          29886,
          47308,
          23006,
          36127,
          87148,
          68679,
          66697,
          76594,
          5890,
          17268,
          17736,
          11690,
          63324,
          5700,
          10648,
          59828,
          7167,
          67224,
          9973,
          7945,
          18715,
          11875,
          8040,
          7442,
          64922,
          66057,
          14903,
          9794,
          8829,
          65440,
          7938,
          12700,
          9622,
          65006,
          7908,
          10484,
          7134,
          49737,
          32483,
          49471,
          27100,
          11800,
          20055,
          25923,
          31900,
          6196,
          2823,
          23182,
          30287,
          13103,
          21990,
          16418,
          15872,
          50928,
          13300,
          13554,
          38850,
          21239,
          25000,
          14174,
          12217,
          11665,
          40895,
          15150,
          34107,
          10647,
          15343,
          9591,
          17788,
          49348,
          16518,
          31156,
          62500,
          32000,
          45000,
          58000,
          17000,
          40000,
          28000,
          35000,
          17000,
          30000,
          56000,
          4000,
          24000,
          43500,
          34000,
          24637,
          26000,
          19000,
          43000,
          13000,
          28000,
          14000,
          20500,
          16000,
          13470,
          25000,
          11227,
          173850,
          152772,
          7987,
          138886,
          44802,
          8501,
          25811,
          5284,
          74462,
          3580,
          142429,
          19790,
          10151,
          7903,
          42032,
          11078,
          36502,
          29703,
          9511,
          7336,
          81649,
          12000,
          45000,
          20000,
          33000,
          18141,
          7000,
          22021,
          15000,
          58455,
          20025,
          8000,
          19000,
          7000,
          9000,
          30454,
          13452,
          11000,
          27152,
          55000,
          7000,
          15000,
          35000,
          43000,
          23000,
          12000,
          35000,
          3000,
          9000,
          9000,
          16000,
          33000,
          14000,
          21000,
          8000,
          25000,
          68346,
          79867,
          72886,
          41459,
          70022,
          25466,
          12000,
          2000,
          42100,
          57735,
          18306,
          18306,
          9249,
          23409,
          24059,
          2549,
          18346,
          4444
         ],
         "xaxis": "x",
         "yaxis": "y"
        }
       ],
       "layout": {
        "barmode": "relative",
        "legend": {
         "tracegroupgap": 0
        },
        "template": {
         "data": {
          "bar": [
           {
            "error_x": {
             "color": "#2a3f5f"
            },
            "error_y": {
             "color": "#2a3f5f"
            },
            "marker": {
             "line": {
              "color": "white",
              "width": 0.5
             },
             "pattern": {
              "fillmode": "overlay",
              "size": 10,
              "solidity": 0.2
             }
            },
            "type": "bar"
           }
          ],
          "barpolar": [
           {
            "marker": {
             "line": {
              "color": "white",
              "width": 0.5
             },
             "pattern": {
              "fillmode": "overlay",
              "size": 10,
              "solidity": 0.2
             }
            },
            "type": "barpolar"
           }
          ],
          "carpet": [
           {
            "aaxis": {
             "endlinecolor": "#2a3f5f",
             "gridcolor": "#C8D4E3",
             "linecolor": "#C8D4E3",
             "minorgridcolor": "#C8D4E3",
             "startlinecolor": "#2a3f5f"
            },
            "baxis": {
             "endlinecolor": "#2a3f5f",
             "gridcolor": "#C8D4E3",
             "linecolor": "#C8D4E3",
             "minorgridcolor": "#C8D4E3",
             "startlinecolor": "#2a3f5f"
            },
            "type": "carpet"
           }
          ],
          "choropleth": [
           {
            "colorbar": {
             "outlinewidth": 0,
             "ticks": ""
            },
            "type": "choropleth"
           }
          ],
          "contour": [
           {
            "colorbar": {
             "outlinewidth": 0,
             "ticks": ""
            },
            "colorscale": [
             [
              0,
              "#0d0887"
             ],
             [
              0.1111111111111111,
              "#46039f"
             ],
             [
              0.2222222222222222,
              "#7201a8"
             ],
             [
              0.3333333333333333,
              "#9c179e"
             ],
             [
              0.4444444444444444,
              "#bd3786"
             ],
             [
              0.5555555555555556,
              "#d8576b"
             ],
             [
              0.6666666666666666,
              "#ed7953"
             ],
             [
              0.7777777777777778,
              "#fb9f3a"
             ],
             [
              0.8888888888888888,
              "#fdca26"
             ],
             [
              1,
              "#f0f921"
             ]
            ],
            "type": "contour"
           }
          ],
          "contourcarpet": [
           {
            "colorbar": {
             "outlinewidth": 0,
             "ticks": ""
            },
            "type": "contourcarpet"
           }
          ],
          "heatmap": [
           {
            "colorbar": {
             "outlinewidth": 0,
             "ticks": ""
            },
            "colorscale": [
             [
              0,
              "#0d0887"
             ],
             [
              0.1111111111111111,
              "#46039f"
             ],
             [
              0.2222222222222222,
              "#7201a8"
             ],
             [
              0.3333333333333333,
              "#9c179e"
             ],
             [
              0.4444444444444444,
              "#bd3786"
             ],
             [
              0.5555555555555556,
              "#d8576b"
             ],
             [
              0.6666666666666666,
              "#ed7953"
             ],
             [
              0.7777777777777778,
              "#fb9f3a"
             ],
             [
              0.8888888888888888,
              "#fdca26"
             ],
             [
              1,
              "#f0f921"
             ]
            ],
            "type": "heatmap"
           }
          ],
          "heatmapgl": [
           {
            "colorbar": {
             "outlinewidth": 0,
             "ticks": ""
            },
            "colorscale": [
             [
              0,
              "#0d0887"
             ],
             [
              0.1111111111111111,
              "#46039f"
             ],
             [
              0.2222222222222222,
              "#7201a8"
             ],
             [
              0.3333333333333333,
              "#9c179e"
             ],
             [
              0.4444444444444444,
              "#bd3786"
             ],
             [
              0.5555555555555556,
              "#d8576b"
             ],
             [
              0.6666666666666666,
              "#ed7953"
             ],
             [
              0.7777777777777778,
              "#fb9f3a"
             ],
             [
              0.8888888888888888,
              "#fdca26"
             ],
             [
              1,
              "#f0f921"
             ]
            ],
            "type": "heatmapgl"
           }
          ],
          "histogram": [
           {
            "marker": {
             "pattern": {
              "fillmode": "overlay",
              "size": 10,
              "solidity": 0.2
             }
            },
            "type": "histogram"
           }
          ],
          "histogram2d": [
           {
            "colorbar": {
             "outlinewidth": 0,
             "ticks": ""
            },
            "colorscale": [
             [
              0,
              "#0d0887"
             ],
             [
              0.1111111111111111,
              "#46039f"
             ],
             [
              0.2222222222222222,
              "#7201a8"
             ],
             [
              0.3333333333333333,
              "#9c179e"
             ],
             [
              0.4444444444444444,
              "#bd3786"
             ],
             [
              0.5555555555555556,
              "#d8576b"
             ],
             [
              0.6666666666666666,
              "#ed7953"
             ],
             [
              0.7777777777777778,
              "#fb9f3a"
             ],
             [
              0.8888888888888888,
              "#fdca26"
             ],
             [
              1,
              "#f0f921"
             ]
            ],
            "type": "histogram2d"
           }
          ],
          "histogram2dcontour": [
           {
            "colorbar": {
             "outlinewidth": 0,
             "ticks": ""
            },
            "colorscale": [
             [
              0,
              "#0d0887"
             ],
             [
              0.1111111111111111,
              "#46039f"
             ],
             [
              0.2222222222222222,
              "#7201a8"
             ],
             [
              0.3333333333333333,
              "#9c179e"
             ],
             [
              0.4444444444444444,
              "#bd3786"
             ],
             [
              0.5555555555555556,
              "#d8576b"
             ],
             [
              0.6666666666666666,
              "#ed7953"
             ],
             [
              0.7777777777777778,
              "#fb9f3a"
             ],
             [
              0.8888888888888888,
              "#fdca26"
             ],
             [
              1,
              "#f0f921"
             ]
            ],
            "type": "histogram2dcontour"
           }
          ],
          "mesh3d": [
           {
            "colorbar": {
             "outlinewidth": 0,
             "ticks": ""
            },
            "type": "mesh3d"
           }
          ],
          "parcoords": [
           {
            "line": {
             "colorbar": {
              "outlinewidth": 0,
              "ticks": ""
             }
            },
            "type": "parcoords"
           }
          ],
          "pie": [
           {
            "automargin": true,
            "type": "pie"
           }
          ],
          "scatter": [
           {
            "fillpattern": {
             "fillmode": "overlay",
             "size": 10,
             "solidity": 0.2
            },
            "type": "scatter"
           }
          ],
          "scatter3d": [
           {
            "line": {
             "colorbar": {
              "outlinewidth": 0,
              "ticks": ""
             }
            },
            "marker": {
             "colorbar": {
              "outlinewidth": 0,
              "ticks": ""
             }
            },
            "type": "scatter3d"
           }
          ],
          "scattercarpet": [
           {
            "marker": {
             "colorbar": {
              "outlinewidth": 0,
              "ticks": ""
             }
            },
            "type": "scattercarpet"
           }
          ],
          "scattergeo": [
           {
            "marker": {
             "colorbar": {
              "outlinewidth": 0,
              "ticks": ""
             }
            },
            "type": "scattergeo"
           }
          ],
          "scattergl": [
           {
            "marker": {
             "colorbar": {
              "outlinewidth": 0,
              "ticks": ""
             }
            },
            "type": "scattergl"
           }
          ],
          "scattermapbox": [
           {
            "marker": {
             "colorbar": {
              "outlinewidth": 0,
              "ticks": ""
             }
            },
            "type": "scattermapbox"
           }
          ],
          "scatterpolar": [
           {
            "marker": {
             "colorbar": {
              "outlinewidth": 0,
              "ticks": ""
             }
            },
            "type": "scatterpolar"
           }
          ],
          "scatterpolargl": [
           {
            "marker": {
             "colorbar": {
              "outlinewidth": 0,
              "ticks": ""
             }
            },
            "type": "scatterpolargl"
           }
          ],
          "scatterternary": [
           {
            "marker": {
             "colorbar": {
              "outlinewidth": 0,
              "ticks": ""
             }
            },
            "type": "scatterternary"
           }
          ],
          "surface": [
           {
            "colorbar": {
             "outlinewidth": 0,
             "ticks": ""
            },
            "colorscale": [
             [
              0,
              "#0d0887"
             ],
             [
              0.1111111111111111,
              "#46039f"
             ],
             [
              0.2222222222222222,
              "#7201a8"
             ],
             [
              0.3333333333333333,
              "#9c179e"
             ],
             [
              0.4444444444444444,
              "#bd3786"
             ],
             [
              0.5555555555555556,
              "#d8576b"
             ],
             [
              0.6666666666666666,
              "#ed7953"
             ],
             [
              0.7777777777777778,
              "#fb9f3a"
             ],
             [
              0.8888888888888888,
              "#fdca26"
             ],
             [
              1,
              "#f0f921"
             ]
            ],
            "type": "surface"
           }
          ],
          "table": [
           {
            "cells": {
             "fill": {
              "color": "#EBF0F8"
             },
             "line": {
              "color": "white"
             }
            },
            "header": {
             "fill": {
              "color": "#C8D4E3"
             },
             "line": {
              "color": "white"
             }
            },
            "type": "table"
           }
          ]
         },
         "layout": {
          "annotationdefaults": {
           "arrowcolor": "#2a3f5f",
           "arrowhead": 0,
           "arrowwidth": 1
          },
          "autotypenumbers": "strict",
          "coloraxis": {
           "colorbar": {
            "outlinewidth": 0,
            "ticks": ""
           }
          },
          "colorscale": {
           "diverging": [
            [
             0,
             "#8e0152"
            ],
            [
             0.1,
             "#c51b7d"
            ],
            [
             0.2,
             "#de77ae"
            ],
            [
             0.3,
             "#f1b6da"
            ],
            [
             0.4,
             "#fde0ef"
            ],
            [
             0.5,
             "#f7f7f7"
            ],
            [
             0.6,
             "#e6f5d0"
            ],
            [
             0.7,
             "#b8e186"
            ],
            [
             0.8,
             "#7fbc41"
            ],
            [
             0.9,
             "#4d9221"
            ],
            [
             1,
             "#276419"
            ]
           ],
           "sequential": [
            [
             0,
             "#0d0887"
            ],
            [
             0.1111111111111111,
             "#46039f"
            ],
            [
             0.2222222222222222,
             "#7201a8"
            ],
            [
             0.3333333333333333,
             "#9c179e"
            ],
            [
             0.4444444444444444,
             "#bd3786"
            ],
            [
             0.5555555555555556,
             "#d8576b"
            ],
            [
             0.6666666666666666,
             "#ed7953"
            ],
            [
             0.7777777777777778,
             "#fb9f3a"
            ],
            [
             0.8888888888888888,
             "#fdca26"
            ],
            [
             1,
             "#f0f921"
            ]
           ],
           "sequentialminus": [
            [
             0,
             "#0d0887"
            ],
            [
             0.1111111111111111,
             "#46039f"
            ],
            [
             0.2222222222222222,
             "#7201a8"
            ],
            [
             0.3333333333333333,
             "#9c179e"
            ],
            [
             0.4444444444444444,
             "#bd3786"
            ],
            [
             0.5555555555555556,
             "#d8576b"
            ],
            [
             0.6666666666666666,
             "#ed7953"
            ],
            [
             0.7777777777777778,
             "#fb9f3a"
            ],
            [
             0.8888888888888888,
             "#fdca26"
            ],
            [
             1,
             "#f0f921"
            ]
           ]
          },
          "colorway": [
           "#636efa",
           "#EF553B",
           "#00cc96",
           "#ab63fa",
           "#FFA15A",
           "#19d3f3",
           "#FF6692",
           "#B6E880",
           "#FF97FF",
           "#FECB52"
          ],
          "font": {
           "color": "#2a3f5f"
          },
          "geo": {
           "bgcolor": "white",
           "lakecolor": "white",
           "landcolor": "white",
           "showlakes": true,
           "showland": true,
           "subunitcolor": "#C8D4E3"
          },
          "hoverlabel": {
           "align": "left"
          },
          "hovermode": "closest",
          "mapbox": {
           "style": "light"
          },
          "paper_bgcolor": "white",
          "plot_bgcolor": "white",
          "polar": {
           "angularaxis": {
            "gridcolor": "#EBF0F8",
            "linecolor": "#EBF0F8",
            "ticks": ""
           },
           "bgcolor": "white",
           "radialaxis": {
            "gridcolor": "#EBF0F8",
            "linecolor": "#EBF0F8",
            "ticks": ""
           }
          },
          "scene": {
           "xaxis": {
            "backgroundcolor": "white",
            "gridcolor": "#DFE8F3",
            "gridwidth": 2,
            "linecolor": "#EBF0F8",
            "showbackground": true,
            "ticks": "",
            "zerolinecolor": "#EBF0F8"
           },
           "yaxis": {
            "backgroundcolor": "white",
            "gridcolor": "#DFE8F3",
            "gridwidth": 2,
            "linecolor": "#EBF0F8",
            "showbackground": true,
            "ticks": "",
            "zerolinecolor": "#EBF0F8"
           },
           "zaxis": {
            "backgroundcolor": "white",
            "gridcolor": "#DFE8F3",
            "gridwidth": 2,
            "linecolor": "#EBF0F8",
            "showbackground": true,
            "ticks": "",
            "zerolinecolor": "#EBF0F8"
           }
          },
          "shapedefaults": {
           "line": {
            "color": "#2a3f5f"
           }
          },
          "ternary": {
           "aaxis": {
            "gridcolor": "#DFE8F3",
            "linecolor": "#A2B1C6",
            "ticks": ""
           },
           "baxis": {
            "gridcolor": "#DFE8F3",
            "linecolor": "#A2B1C6",
            "ticks": ""
           },
           "bgcolor": "white",
           "caxis": {
            "gridcolor": "#DFE8F3",
            "linecolor": "#A2B1C6",
            "ticks": ""
           }
          },
          "title": {
           "x": 0.05
          },
          "xaxis": {
           "automargin": true,
           "gridcolor": "#EBF0F8",
           "linecolor": "#EBF0F8",
           "ticks": "",
           "title": {
            "standoff": 15
           },
           "zerolinecolor": "#EBF0F8",
           "zerolinewidth": 2
          },
          "yaxis": {
           "automargin": true,
           "gridcolor": "#EBF0F8",
           "linecolor": "#EBF0F8",
           "ticks": "",
           "title": {
            "standoff": 15
           },
           "zerolinecolor": "#EBF0F8",
           "zerolinewidth": 2
          }
         }
        },
        "title": {
         "text": "Distribuição de Público nos Jogos da Copa do Mundo - Plotly"
        },
        "xaxis": {
         "anchor": "y",
         "domain": [
          0,
          1
         ],
         "title": {
          "text": "Comparecimento"
         }
        },
        "yaxis": {
         "anchor": "x",
         "domain": [
          0,
          1
         ],
         "title": {
          "text": "Frequência"
         }
        }
       }
      }
     },
     "metadata": {},
     "output_type": "display_data"
    }
   ],
   "source": [
    "#### solução com plotly\n",
    "fig = px.histogram(wc, x='comparecimento', nbins=30, title='Distribuição de Público nos Jogos da Copa do Mundo - Plotly')\n",
    "fig.update_layout(xaxis_title='Comparecimento', yaxis_title='Frequência')\n",
    "fig.show()\n"
   ]
  },
  {
   "cell_type": "markdown",
   "metadata": {},
   "source": [
    "#### Q3.\n",
    "\n",
    "Apresente um gráfico de dispersão (scatter) dos atributos `gols_1` e `gols_2`. Isso representa a relação entre gols feitos e gols tomados por jogo. Há alguma relação interessante entre esses atributos?\n",
    "\n",
    "Para facilitar a visualização dos dados (já que tem muitos placares repetidos), aplique uma leve distorção aos dados para que cada ponto esteja deslocado aleatoriamente de seu valor original. Código apresentado a seguir\n",
    "```python\n",
    "gols = wc[['gols_1', 'gols_2']] * np.random.random((len(wc),2))\n",
    "```\n",
    "\n",
    "Você deve implementar essa visualização nas três bibliotecas que vimos:\n",
    "* Matplotlib\n",
    "* Seaborn\n",
    "* Plotly\n",
    "\n",
    "Garanta que o gráfico tenha pelo menos os atributos de título e rótulos de dimensão."
   ]
  },
  {
   "cell_type": "code",
   "execution_count": null,
   "metadata": {},
   "outputs": [
    {
     "data": {
      "image/png": "[encoded data removed]",
      "text/plain": [
       "<Figure size 800x600 with 1 Axes>"
      ]
     },
     "metadata": {},
     "output_type": "display_data"
    }
   ],
   "source": [
    "#### solução com matplotlib\n",
    "gols = wc[['gols_1', 'gols_2']] * np.random.random((len(wc), 2))\n",
    "\n",
    "plt.figure(figsize=(8, 6))\n",
    "plt.scatter(gols['gols_1'], gols['gols_2'], alpha=0.5)\n",
    "plt.title('Relação entre Gols Feitos e Gols Tomados - Matplotlib')\n",
    "plt.xlabel('Gols Marcados')\n",
    "plt.ylabel('Gols Sofridos')\n",
    "plt.show()\n"
   ]
  },
  {
   "cell_type": "code",
   "execution_count": 33,
   "metadata": {},
   "outputs": [
    {
     "data": {
      "image/png": "[encoded data removed]",
      "text/plain": [
       "<Figure size 800x600 with 1 Axes>"
      ]
     },
     "metadata": {},
     "output_type": "display_data"
    }
   ],
   "source": [
    "#### solução com seaborn\n",
    "plt.figure(figsize=(8, 6))\n",
    "sns.scatterplot(x=gols['gols_1'], y=gols['gols_2'], alpha=0.5)\n",
    "plt.title('Relação entre Gols Feitos e Gols Tomados - Seaborn')\n",
    "plt.xlabel('Gols Marcados')\n",
    "plt.ylabel('Gols Sofridos')\n",
    "plt.show()\n"
   ]
  },
  {
   "cell_type": "code",
   "execution_count": 34,
   "metadata": {},
   "outputs": [
    {
     "data": {
      "application/vnd.plotly.v1+json": {
       "config": {
        "plotlyServerURL": "https://plot.ly"
       },
       "data": [
        {
         "hovertemplate": "gols_1=%{x}<br>gols_2=%{y}<extra></extra>",
         "legendgroup": "",
         "marker": {
          "color": "#636efa",
          "opacity": 0.5,
          "symbol": "circle"
         },
         "mode": "markers",
         "name": "",
         "showlegend": false,
         "type": "scattergl",
         "x": [
          0.05407209656344247,
          0.015223106470424907,
          0.7139123729879033,
          1.7034372805144664,
          0,
          1.5674075033515393,
          0.2096111619925709,
          0.620171017401311,
          0.5183026462209954,
          3.328487537826094,
          0,
          1.9848099476211583,
          1.4727186218847022,
          0,
          0.25938828415242243,
          1.8807580088037226,
          0.8897832845085242,
          0.8334179413325878,
          0.6943931350723441,
          0,
          0,
          2.2847439531938982,
          0,
          0,
          0,
          0.6940809675354386,
          0.5215122920738731,
          0.8551765070861495,
          0,
          0,
          0,
          0,
          3.241608704633714,
          0.7801516964652259,
          2.848237072377028,
          0.21389672657599434,
          0,
          1.4181883949919512,
          0.4572490466453264,
          0.07364498016884424,
          0.24015962553960957,
          0.527787928351106,
          0.6892012346617669,
          1.6988154414668415,
          2.215258506776614,
          0.4649397129761721,
          1.058498911661275,
          0,
          0,
          0.31077222449511277,
          4.626748248354552,
          3.111708080540721,
          1.6679900793875,
          0.5028909975811721,
          0,
          2.4250191477872454,
          0,
          0.7666666933101063,
          0.5565531394128358,
          0,
          0,
          2.419146115808135,
          0.5905065905111864,
          0.375932493313886,
          1.6882589253496694,
          0.6349069771621609,
          0.7039767944083812,
          0.4512838412310627,
          0,
          0.8323936059606557,
          0.5438682573128203,
          0,
          1.013587614744698,
          1.9260012440743868,
          0.4729991474258005,
          0.03352035039399015,
          1.752457850330945,
          0.6882155364031779,
          2.6747473113057296,
          0.13797409270655858,
          1.1273721125076077,
          0.1448695771120958,
          0,
          0,
          0,
          1.2048100555891077,
          0,
          0.8150590093557962,
          0,
          0,
          0.15420956891302073,
          0,
          2.0974506513032725,
          1.5761119644535482,
          2.6241620022091685,
          1.7286326746309142,
          1.8890716237003957,
          0,
          0.8925700516537585,
          2.500918886820809,
          0,
          0.004613454373323389,
          0.9956271066136738,
          1.1684029575308572,
          0,
          0,
          1.1254033815052207,
          0,
          0.5630491909123274,
          0.9142332109470077,
          0.8724902197887067,
          1.0039425611065493,
          0.32900234227438163,
          1.661560462305097,
          0.9235372999414088,
          1.3782685507281638,
          1.3239807062929965,
          0,
          0.8818243220550446,
          0.48029475216862294,
          0,
          1.643052181262887,
          0.8000645591782976,
          0,
          0.2169138016677321,
          0.48035207441309935,
          1.222307718946742,
          0,
          0.6171402157887234,
          1.679289824673809,
          2.0830650762757874,
          0.08370623812867284,
          0,
          0.48359025952929846,
          0,
          1.4551746846590303,
          0.4170769030590189,
          0,
          0,
          0.31932586545236374,
          0,
          0.3720196115108435,
          0.6283918058255282,
          0.33144348010314273,
          0,
          0.36039074201600296,
          0.07573919783725502,
          0.22036013984748992,
          0.5387285265914725,
          5.97168238778342,
          1.5692339036122076,
          0,
          0.4486327748723702,
          0.5711416988889689,
          0.6595565500342413,
          0,
          0.27542712108844414,
          0.42128382597368386,
          0.6431860092461927,
          1.2186623830953627,
          1.4896851223303438,
          2.6530879280794797,
          0.5526689213616572,
          0.1608891643969318,
          1.7292090766981683,
          6.442081810499659,
          0.6177931973935534,
          0,
          0.9217022923298459,
          0.7514532478578038,
          0.35232964828880764,
          1.8636138300268241,
          1.1474498727602898,
          1.2518467551017312,
          0.8152417201984906,
          0,
          1.4890209275551254,
          0,
          0,
          0.90240764944603,
          1.3158427825791998,
          1.5647702755329027,
          1.2686502986510193,
          0,
          0.22533036117678218,
          1.6916583979203832,
          0,
          2.519234252448733,
          3.3538813707741073,
          0.8786804307030598,
          0,
          0.6766760110791956,
          0.5416727907475661,
          0.6994337008682723,
          0,
          0.41425302537217923,
          0.811531724022359,
          0.7174743543123944,
          0,
          0.9785599020785758,
          0.8908936296074436,
          0.07142875016346273,
          0,
          2.101940427869101,
          0.5062719724693975,
          1.0946152556178663,
          0.03396818117654388,
          2.5044926221700066,
          4.145654373068424,
          1.9037265577523832,
          0.964259729574026,
          0.4817224245366547,
          0.9116404821091348,
          0,
          0,
          0.235939310903018,
          0.8862663219744467,
          0.9729620745927119,
          0,
          0.2502991506413299,
          1.6431441325288272,
          0,
          0,
          0.7599746617107914,
          2.9011963139586987,
          2.9584786640378407,
          1.7921361096073838,
          1.912080923779939,
          0.4268571463181299,
          0.8466081559934644,
          0.5053409161679439,
          4.469141910477989,
          0.524827961395244,
          1.0385226954493518,
          0.8913207300393156,
          0.7093088359064755,
          2.6272698400332812,
          0,
          0.15716641557765032,
          0.01979991006537174,
          1.7275300550951282,
          0,
          0.9635016454280363,
          0.2363277877810852,
          0.32015870260548673,
          0.6309092282715675,
          2.56992016477168,
          0.6982926414769848,
          0,
          0.10260201818220793,
          4.57910448116663,
          0.9421386866889014,
          0.7929316486174136,
          2.249435746777161,
          0.02786640978441246,
          2.8756753373313195,
          2.71349116594554,
          0.602740456063613,
          0.09457444938075699,
          0.14941918645217322,
          1.3024604973259004,
          0,
          2.8698885766320577,
          4.942398879723578,
          0,
          0,
          0.47149366101397416,
          0,
          1.4639683539411168,
          0.38514229635420527,
          1.9628811970568913,
          1.8459886659244709,
          1.342393671069133,
          1.8462788565338835,
          0,
          0.953258196640474,
          0.15268453221652734,
          0.6140889836738447,
          0,
          0.5301664509824398,
          0.2550469580546255,
          1.031486584704275,
          0.7960217270551186,
          0.9625166769428519,
          5.0887643583435445,
          0,
          1.859060488669269,
          0.7188002997568549,
          0.13829331611841644,
          0.1557792774280159,
          0.26278288566937225,
          0.9388497542481626,
          0,
          5.022856632809301,
          0.037844044143545585,
          0.03521472650365154,
          0,
          0,
          0,
          0.7309805244639807,
          0.4500826331411778,
          2.3095181554545836,
          1.73453624558246,
          0.4625570923156348,
          0.30269257077381473,
          1.9940149853807312,
          1.7802920092947483,
          3.5678520585685005,
          0.8724107593669852,
          0.00393739421968875,
          1.6341378629736534,
          0.40699018936538156,
          3.3728896085823448,
          0.7150929579099627,
          0.6419957161551167,
          0.21312910261751472,
          2.57263830664912,
          2.453334578651282,
          3.6469316284866737,
          3.206746301726561,
          0,
          0.3696730410995944,
          0.21100268991023574,
          1.776856959721664,
          0.6980939715307586,
          0.4628657007672715,
          1.6252146748890448,
          3.6533080216201173,
          0.4808587273840851,
          0,
          0,
          0,
          1.1803413739187278,
          1.7448502393137677,
          0.9324266026412058,
          0,
          3.886439724682121,
          0.023608483944937975,
          0,
          0,
          0,
          0.44109414039323513,
          2.232712143125447,
          0,
          0,
          1.3089223990064025,
          2.081157271205437,
          3.1682310501976825,
          0.8840816954938484,
          0.7191065224879294,
          1.9998244601003168,
          0.30182549041835016,
          0.06383971646225095,
          0.6405289779339334,
          0.1100471132671117,
          0.4867236722963908,
          0,
          2.706657429930096,
          0.7970678229048253,
          3.29403518713893,
          1.85004434647773,
          2.0099977059762786,
          1.5821832835090388,
          1.6251030096618775,
          0.37955643686448926,
          0,
          0.568068790193754,
          1.3561897147772568,
          0.4623331804777754,
          0,
          0.4328321557248984,
          0.2651503925184766,
          0.10831711135758393,
          0.7311135716696975,
          0.49487913691734275,
          0,
          0.9375810315361073,
          0.7363305107393678,
          0,
          0,
          1.7263501581208751,
          1.069209446965747,
          0.8918703911321157,
          0.0662198893270316,
          0,
          0,
          3.735413844851466,
          0.19911462937069346,
          0,
          1.6667602159645436,
          1.1180213761152915,
          0.630150502442971,
          0,
          0.8866036467363476,
          0.29804890938689765,
          0,
          0.20396648257087935,
          0,
          2.540248125715541,
          1.1918370188086742,
          0,
          0.3287160496908432,
          4.83306248904541,
          0.464071897420003,
          0.917207913585207,
          0,
          0,
          2.438476564323743,
          0.4320979450080984,
          0,
          0.08415998074821673,
          0,
          2.9547196468765495,
          1.5322113485656574,
          1.3183331846989574,
          0.611098834429107,
          0,
          1.025612385568679,
          0,
          0.7784137362902719,
          0.754126090591687,
          0.8635427165621883,
          0.1774134352405421,
          0.16989248556366943,
          0.8657823968858065,
          0.9060974582402238,
          2.4017077345216227,
          1.174998041758152,
          0,
          0,
          0,
          0.9940537046931411,
          0.5736961252895518,
          0,
          1.6098754497730337,
          0,
          0,
          0,
          0.23786677532455347,
          0.10390762650684182,
          0.007910797640292122,
          2.628833446293367,
          1.722965282400241,
          0.5881629699244898,
          5.89257753661817,
          0.5521405725424662,
          0,
          3.243184989868932,
          0.8000534912754114,
          1.3003683266664565,
          0.277714069212772,
          1.918036185516981,
          0.4635483177402485,
          0.036419383397273464,
          0.707486047085887,
          0,
          0.012566894770350334,
          0.12412620475091152,
          0,
          0.6739603105042906,
          0.10387080017180905,
          2.8920420884744837,
          0.48975843866470725,
          2.6344459982234043,
          0.48879670336817405,
          0,
          0,
          0.19382572264761477,
          1.1385113739292572,
          0.3562085930452856,
          0,
          1.6794871132830864,
          0,
          0,
          1.4316432487079425,
          0.8530874495800517,
          0.123572942537435,
          0,
          0,
          0.5100642313933672,
          0.046653029098922105,
          0,
          0,
          1.684645147038674,
          0.12366734281788982,
          0.5941698363102852,
          1.3695345749871415,
          0.8747634506068744,
          0.625183359267937,
          0.46177082421250837,
          0.15898522621167,
          0.5132853318401611,
          0,
          0.48301124758459757,
          0,
          0.9393739090611049,
          2.92493032255598,
          0.5423276657089524,
          0,
          0,
          0,
          0,
          0.7989062790990992,
          1.7259455467551457,
          0,
          1.2237342541128042,
          0.18246204726261095,
          0.04210051676033444,
          0.5937653766116037,
          0.32746341578386695,
          1.2856365675655053,
          0.6543596766151415,
          0.8200760884708771,
          0.8835789378633717,
          0,
          0.01802532409937041,
          0.04516114961157358,
          1.9618957511941313,
          0.7802788006667469,
          0,
          0.35327425343138863,
          0,
          0,
          0.7084787061250588,
          0,
          0.4912871392056021,
          3.0580445302705295,
          0,
          0.4528826236354516,
          1.7838179380783177,
          0.6138800046132373,
          0.5584786435829794,
          2.7255821619063787,
          0.02611203402621254,
          0.42518445401149185,
          0.4403968443291606,
          0.2762064223945373,
          0.6257908960541193,
          1.5823692036311772,
          0.33293792320209326,
          0,
          0.7774901810341608,
          0,
          1.9865123036725223,
          0,
          0,
          1.3217618971943077,
          0.2819000271156823,
          0,
          0.16649430910338592,
          0.06986966600447464,
          2.412188768277675,
          3.7971834427344,
          2.227802072106744,
          1.4958302878710803,
          0.42026798178809355,
          0,
          0,
          0.29606575148792746,
          0,
          0,
          0.24584913011829457,
          0.5703623081840447,
          0.29345840256174305,
          0,
          0.33463879150420717,
          0,
          1.139874673319583,
          0,
          0.9665694220047238,
          0.17362394623407695,
          0,
          2.3999558249542643,
          0.86081939263953,
          0.5118516409486873,
          0,
          0.61113402916806,
          2.593118219265849,
          0.2927692257844646,
          0.40868028873726103,
          0.7527934401584966,
          0,
          1.7767773843916588,
          0,
          2.751515369846882,
          0.7530235557999903,
          0,
          0,
          0,
          0,
          0.11000035551311849,
          0,
          0.7423616541919653,
          0.6308183936961658,
          0.9443534258953952,
          0.939063175871843,
          0,
          0,
          1.4000781634771808,
          0.8539398626736696,
          0.3970302816257698,
          0.005317353405170144,
          0.33664548342996814,
          0,
          0.5562678954205651,
          0.8717732077733017,
          0,
          0,
          0,
          0,
          0.007428709987532756,
          2.9628298922671776,
          2.23897460695907,
          0.12602257278567008,
          0.6874372877880226,
          0,
          0.8101621555881835,
          0.19217265939412043,
          0.18882287385772734,
          0.8356398332489032,
          0,
          0.03873465549372701,
          0,
          1.486477140651381,
          1.0396562400065492,
          0,
          0.03996972318200309,
          0.9025608923150885,
          1.239563350218171,
          0.44253909978760453,
          2.243075912090815,
          0,
          0.7203918776998458,
          0,
          0.5224044774189238,
          0.6426578029963774,
          0,
          0,
          0.220887475424018,
          0,
          0.9807114160316941,
          0.8891168373879972,
          0.6351330088065943,
          0,
          0.9395380462651639,
          2.400245984131927,
          0.10824354081388488,
          0,
          2.1839908585136625,
          1.91774276457473,
          0.550615111918006,
          2.0994001012834986,
          1.343755655056276,
          0.6934686379256381,
          0.4044714295467764,
          0,
          0.6140350956713423,
          0.6609536935092256,
          0,
          0.22101628635713966,
          0,
          0.36569467040683723,
          0,
          0.045213582302127464,
          0,
          0.7855212372092688,
          0.08866971689850933,
          0,
          0,
          0.20974553009693242,
          0.5273648984214396,
          0.5961344959971318,
          0,
          0,
          0.3720484053163652,
          0.6539245474540487,
          0,
          1.2363905237043875,
          0,
          1.0044891707666266,
          0.5483862201451197,
          0.9628016069354417,
          0.5945172322996568,
          0,
          0,
          1.9221923557450185,
          0,
          2.3406192652221334,
          0.6411750310978406,
          1.4960738094942534,
          0.4931745848229445,
          0.27798752659753956,
          0.6131253483052531,
          0,
          1.041503777699155,
          0.5428281844084901,
          1.5355209513993044,
          0.5742308864943095,
          0,
          0,
          0.6674810471502352,
          0.8185847167581453,
          1.6850953998789802,
          1.0963338308969,
          0.18257335863198776,
          0.23004674925979895,
          0.7154406387651806,
          0.9776127995775775,
          2.8810090026182262,
          0.10624236009920085,
          1.2492140186930873,
          0,
          0.1554648492527031,
          0.49763811770203514,
          0,
          1.7767439084063354,
          2.866316798147194,
          0.44327084429684815,
          0,
          1.9271228481731912,
          1.4382149667854913,
          0,
          0.40950185504461234,
          1.8384834168139548,
          0.4437457240047423,
          0.47682631675741316,
          0.4244079654909313,
          2.040620845113243,
          0.9473604027234876,
          0.9183640222123219,
          1.7841453284550042,
          0,
          0,
          0.02415206963840233,
          1.9343385697178002,
          0.2398215637064861,
          0.7793711605039415,
          0,
          0,
          1.1235448637274512,
          0,
          1.874757702872985,
          1.9166154466255638,
          0.9503240210795991,
          0.4649812722789377,
          0.9045835830921299,
          0.672269568823345,
          2.5593437935656693,
          0.8937791627649628,
          0.07471455332274068,
          0.14644919195895967,
          0,
          1.6476717857600296,
          0.04889778067877115,
          0,
          1.8035232542846917,
          0.8750336614636727,
          0.5832813269718009,
          2.9204179978760605,
          0.49906977831140364,
          1.1574757394947655,
          0.13129856897210668,
          0.8092122830668638,
          0,
          0.4351671510242596,
          1.592473926990062,
          1.8548269594582019,
          0.10061338485254312,
          0.5967014913710124,
          0,
          1.9363338363340692,
          0.16434414802984187,
          0.6157022579767067,
          0,
          0.24986652380665597,
          2.3157508285917032,
          0.7003664170572405,
          1.8211230181417215,
          0.5453348533693599,
          2.6848199733957494,
          0.10600321147114444,
          0.13591167673109605,
          1.7386129472305574,
          0.01418745438385427,
          0.25444634808616884,
          0.49580721124157534,
          0.4601255672621547,
          0.9680656404745447,
          0,
          0,
          0,
          0.7072637059572342,
          1.9903124145751925,
          0.49267999424149655,
          1.272021916515712,
          1.4310469738996003,
          0,
          2.8912220084223725,
          0.8914037474487134,
          0,
          0.9828609637761034,
          0.21759785184794245,
          1.359491322181092,
          1.6331016512662822,
          0.40601761378510526,
          0.48454364570711295,
          1.747236217400645,
          0.968716682992188,
          0.7246404436849968,
          1.925213061459015,
          1.6106151711774053,
          2.9409490355433374,
          0,
          0,
          0.9695342097687608,
          0,
          0.4153624816513406,
          0,
          3.1871089838999693,
          0.4248910316630523,
          2.7398631090463965,
          0.20472160487095947,
          0.3216344020275881,
          0,
          0,
          0.23397500855164566,
          1.340008824172896,
          1.2261189189621964,
          1.5421102974571184,
          0.5881096456983349,
          0.5768045661968514,
          0.7291585133940779,
          0,
          0.1809125951225653,
          0.3856123259620192,
          3.1763796873144994,
          0.4278919490713652,
          0.962101693702713,
          0.45971561705228425,
          1.818789211771201,
          0.8473257777074342,
          0.39479297023372373,
          1.117939768670603,
          0.8842099604336023,
          0,
          0.5781374285483367,
          0.2875143368927925,
          1.5757479550614577,
          0.9272189762817421,
          1.3140390700119549,
          0.9594639570242599,
          0.19974069455076338,
          0.9673195953511081,
          1.2367938699214767,
          0,
          0.2672133804708946,
          0.7218660051745013,
          0.6793319293785371,
          0,
          1.9514002652256253,
          0,
          0.09671103630964684,
          1.1200236006560853,
          3.4432704342912084,
          0.9707243874606974,
          0,
          0.7691025761593954,
          0.4723037000998964,
          0.8234528814144669,
          0.8431130411841232,
          0.9534583377289509,
          2.603550943521357,
          1.1107289411011958,
          1.107474572716896,
          0.8763294594899173,
          0,
          0,
          2.207398388814653,
          0.12840566559892264,
          0.7333375797175583,
          0,
          0.7135400831003871,
          0,
          2.0852719744558312,
          0.8208475771189955,
          1.6286908654212346,
          0.7418484301847073,
          0,
          1.6134956101837141,
          0.989425006718168,
          0.19873063787545298,
          0.7469370103940949,
          0.4439106940747054,
          0.424453937094988,
          3.1706377251055287,
          1.740506036244006,
          0,
          0,
          0.9495781302261913,
          0,
          1.1838275494146184,
          3.269800164013397,
          0,
          0.38427926715762495,
          1.916692942431206,
          0.7938440152150679,
          0.10380383550635086,
          0,
          2.5622109218377176,
          0.5337715145029611,
          0,
          0,
          2.1128878475346085,
          0.8699303510795152,
          0.2743126713013939,
          0.47076851567468925,
          0,
          1.9815923285495214,
          0,
          0,
          0.39395689880701545,
          0,
          1.4949456682303193,
          0.27069957828614566,
          0.5611129352613098,
          0.6256007166254098,
          1.8862918307859915,
          0,
          1.1570030726875828,
          0.9840116991288584,
          0.42001795442067325,
          0.033712544274270506,
          0.7971022723991352,
          0.9355687249939469,
          0.17667055127180042,
          1.4608260631422942,
          0,
          0.004636759786369349,
          0.38813449070353057,
          0.2057750103096032,
          0.573951428376793,
          0.13017319168641883,
          0,
          0.7928129779591596,
          0.44067155979427275,
          0.6192653694369733,
          0.4359020064270771,
          1.944604477415782,
          0,
          0,
          0,
          0.6692362180846859,
          1.4709398085609187,
          2.7982145680799344,
          0,
          0.39512841385090425,
          0.7843084948972049,
          0,
          1.3111801917208723,
          0,
          0.7678422734214274,
          0.010094854707835,
          0.719753121347871,
          0,
          0.2487880715935613,
          0,
          0,
          0.2273015876197949,
          0.3295826877987764,
          0.0648863148912373,
          0.2595143288432412,
          0.3812319804078368,
          1.2737691945251175,
          0,
          0.19139667064616728,
          1.3068306507462535,
          2.288496884706124,
          2.411573057790792,
          0.7335160662733006,
          0.2401695776625743,
          0,
          0.921262189764668,
          0.6630237100853862,
          1.081075010925069,
          0.1109441871631327,
          0.9244326426352294,
          0,
          0.2630780278945293,
          0.24759571532597968,
          0.8358765499936658,
          0.17436508773131543,
          0.606680684886995,
          0,
          0.7965886149506806,
          0,
          2.744128605261318,
          0.5710502154064119,
          0.5164047850857446,
          0,
          1.9740643961811377,
          1.7259527961340675,
          0,
          0.9382215063195658,
          0,
          1.0273638058770849,
          0.3589938807654409,
          0.4066790318626827,
          2.3258596725182725,
          0.134418868685395,
          5.130025255888933,
          0.23551753947596565,
          0.5528003554031837,
          0.044558670729158645,
          0,
          0.6923714786450175,
          0,
          1.0589119433160448,
          1.792806294611273,
          0.9560601791044359,
          0.0534086887980304,
          3.795894854090595,
          1.7199767767873664,
          0.4241422005358154,
          1.0902083847815995,
          0,
          0.011802990112879885,
          0.01249818801300806,
          0,
          0,
          0.940218387205662,
          2.687262774705758,
          4.6182453404605575,
          0.041909097686259944,
          0.7729487823010848,
          0.5500933269661252,
          1.6760896547639532,
          0.5131287012176207,
          1.9772699288326767,
          0.11054288603582463,
          0.4717432328269937,
          0.9054500270110359,
          0,
          0.7217128249477155,
          0,
          0,
          1.0455023959581988,
          0.6001029822892443,
          0.11586086067317303,
          0.7167799156772285,
          0.2108746890719383,
          0,
          3.0581870220598693,
          0,
          0.6033360628079907,
          0,
          2.182363410179095,
          0.6060710266514315,
          1.1648028466453566,
          0.6274131263994539,
          2.7545310226377455,
          0.7270554739057927,
          0,
          0,
          0.25329585348698025,
          0,
          0.054515972852378414,
          0,
          0.7463913830012922,
          0,
          7.325222833271702,
          0.8481574119434229,
          0,
          0,
          0,
          2.978584343287382,
          1.383058916964584,
          0.8796807770123606,
          1.0184217265678348,
          0,
          0,
          3.9293614182365375,
          0.7534255858322659,
          2.626200356607075,
          1.838015794437689,
          0.4486810823878109,
          3.845232339457836,
          0.5397216517545005,
          1.2831968244735588,
          0.4438753276903178,
          0,
          0.9560699166926656,
          0.6895188345885194,
          2.192027184159048,
          0.03374562176209672,
          0.9922287216752181,
          1.9343030039143738,
          3.62491228099808,
          0.6966167196587921,
          1.4498739210939737,
          0.8274869404361768,
          0.7681879756912562,
          0,
          2.5293041807621695,
          0.5928667038091838,
          0.836836282595654,
          3.7725938563890757,
          0.10867627494053378,
          1.6015111437337712,
          0.31757984806543804,
          2.182479766825131,
          1.452938965482239,
          0,
          0.636564482076603,
          0.8401191805616923,
          1.312938740172559,
          1.2379668003231519,
          2.9034842388211715,
          0.8080380128384727,
          1.373444639233319,
          2.9837380787545986,
          0.9445616304619622,
          1.576126805670675,
          1.3546320266431158,
          0.20295865077068043,
          0,
          1.1245866087475098,
          1.9671565308939971,
          0.5970944290792771,
          0,
          0.9675630545612537,
          1.7585386679794097,
          0.1701248644240061,
          1.5012024876571368,
          0.8030007186584027,
          0.14801870223827274,
          0.34664099303996665,
          1.783649686487524,
          0.6517038196729729,
          0.0271488071703907,
          0.8326268705522022,
          1.9988051481203883,
          1.0092101446734385,
          1.3271821919937676,
          0,
          1.6822247923107343,
          0.7878850899575693,
          2.6106631870780035,
          0.8900047507761347,
          1.2102180772903794,
          0.6378800056818239,
          0.21090862186434067,
          0.3318689554322847,
          0,
          0.7711139352662872,
          1.0169374590221185,
          1.1071176919208348,
          0.05265159247233764,
          0.1757435168235173,
          0,
          0.7567127243505338,
          0.05482974196436663,
          1.0604059445357272,
          3.0290880607980863,
          1.069154302426407,
          0.08344525942913705,
          0,
          0.40691290387104917,
          2.952313823208274,
          0,
          1.7859837608902491,
          0.19083060822758746,
          0.3697063720273135,
          1.9532480754648964,
          0.06089477648922337,
          1.9285726938824443,
          0.43852002303900384,
          4.668045384228115,
          4.6895478912072655,
          2.1395526636318047,
          3.100424181948253,
          2.1944154826731155,
          0.4061514594871466,
          0.04107237957081422,
          0.47738908467519536,
          0.29858845214590235,
          1.7829350436448332,
          0.09257666619810567,
          0,
          2.0240643679425387,
          0.9027195972520456,
          1.8707834462743276,
          0.742730671818526,
          1.1943658013359315,
          1.5847011555673802,
          1.198444765767206,
          0.7519961591697044,
          0.562621963136873,
          1.0206509737569618,
          1.0957065469203917,
          2.6270256174983726,
          0.19712372717312887,
          0,
          0.023943682648716158,
          0.05742101456999449,
          0.6988530289611116,
          0.8495730445690782,
          0.4611798226782874,
          2.4453205040264527,
          1.1668605754815629,
          0.18226160519770873,
          0.41472283629627127,
          0.8591284777250621,
          0.47308174903754685,
          3.1852144356568854,
          2.4945716288513267,
          0.4966753823735297,
          2.6009249367431475,
          1.8694695684394436,
          0.9468405845217226,
          1.2751618538484157,
          3.8985215619907874,
          1.8318184228473946,
          0.5123538636156237,
          3.4291399909213793,
          0,
          5.505024829179973,
          0.17472403672016668,
          3.941295437621424,
          0.6250757838023373,
          0.2940278397587528,
          0.2617551668022652,
          2.9714257680339053,
          3.5191630196545045,
          1.6781922784066428,
          0.7870263032284482,
          3.849756099794772,
          0.6696038368342578,
          2.36324956595195,
          1.7997196670622242,
          3.710407628162227,
          0.9381781542628577,
          3.312644072532275,
          0.7862917876627844,
          0.6418398961159788,
          1.4188942070175765,
          0.6084327350904903,
          0.10999982723935187,
          1.3051872240813853,
          1.4765987161346361,
          0.925772512763585,
          0.36997152751432905,
          0.28441951297585266,
          0.4192856205571911,
          1.2003753221749607,
          0.8417953140523413,
          0.5073516732078476,
          2.3569098866110645,
          0.6751364362308317,
          2.9273930092447,
          3.255233933062767,
          1.8733231519395446,
          2.0669243793947087,
          1.2719270338269588,
          0.8375878515926847,
          3.9537585060608027,
          0.40600141940566326,
          0.6011344413657644,
          2.756130080698026,
          0.6486372938652853,
          0.23743196494640006,
          1.4538910704536339,
          0.47742117559502084,
          2.380841051797274,
          1.4288095703326626,
          1.5327685954200652,
          0.7332320487774231,
          0.1950221153916084,
          0.015519156369532938,
          0.6380345076264966,
          1.322716998364698,
          0.07182020404619605,
          0.19039855113307924,
          1.1418627362607325,
          1.9556058312044131,
          0.9512512303707354,
          1.193897050691712,
          1.594356221750793,
          0.6523219584884301,
          1.4214733039453895,
          0.4889410532016599,
          2.9871408557808365,
          0.8419794440936794,
          4.577506870053783,
          4.69397823338774,
          0.8728283831734069,
          3.8456843793113156,
          0.9348067056726441,
          2.465987303667678,
          0.8604704657963835,
          2.877790176432562,
          0.6256256505425364,
          0.8868064260346464,
          4.798246194046916,
          0.6136686418868176,
          0.7311414915495047,
          1.2832204463704788,
          0.4460837287859004,
          0.7203831363967914,
          1.215975690869321,
          2.5718610567313798,
          0.4286402152363058,
          0.2520964313400147
         ],
         "xaxis": "x",
         "y": [
          0,
          0,
          1.1955510725894405,
          0.9406804841063923,
          0,
          0.8636693925220584,
          0.15440099750782055,
          1.5925612675960812,
          0,
          0,
          0,
          0,
          0,
          0,
          4.284990512153089,
          0.3283355688009427,
          0,
          0.42942643723975404,
          1.7828971971842795,
          0.48940889697940815,
          0,
          2.665885002157667,
          2.3270515255348134,
          0,
          0.10601615339632375,
          0.24430242503774302,
          0,
          1.8323170871201047,
          0,
          3.016292695858963,
          0.4114939471547058,
          0,
          0,
          1.3968595030904267,
          0,
          0.33360190026646064,
          0.7694967610479105,
          1.5076538367641898,
          0,
          0,
          0.9098524359320843,
          0,
          0.32969180566874845,
          0,
          0,
          0.5807507444101246,
          0,
          0.3884601033710111,
          0,
          0,
          0,
          0,
          0.6214804954069472,
          0,
          0,
          0,
          2.2975037545861055,
          0,
          0,
          0,
          1.3703430576504787,
          0,
          0,
          0,
          0,
          0.4460285490439009,
          0,
          0.3467530207357956,
          1.9486176300127056,
          0.639760945403141,
          1.7769044938136387,
          1.3506080167536858,
          0,
          0.85599467499029,
          0.392389536697235,
          0,
          0,
          0.6466000276192142,
          0,
          0.5082644201596025,
          0.41096199293716196,
          0.4908588091614179,
          1.980776355393792,
          0.9447497156727853,
          0.6248305840824289,
          2.8292811954197203,
          0.42832585077816365,
          2.6614919628637166,
          3.0946798197473386,
          0,
          0.6927056844246688,
          0.17581715862102731,
          0.8135247630033301,
          0,
          0.9646210847772375,
          0,
          0.5391259970381145,
          0.007908555760668956,
          0,
          1.8692234249698154,
          0.8596556869642782,
          0,
          0,
          0.7697555042525647,
          0.4736606492093901,
          0.3055082363258217,
          0,
          0,
          0,
          0.24080328141511242,
          0,
          0.2998102706294936,
          0,
          0.04271043446871059,
          0,
          0,
          0.3776872190290794,
          0.46952542090040983,
          0.3504039362998368,
          0,
          0.6139082978441988,
          0.6734499193569748,
          0.7102341331398917,
          0.8618336265470224,
          0.14813083651094294,
          1.396865975790185,
          0,
          0.8919095442483523,
          0,
          0,
          0.2556416772889235,
          0,
          0.5798156258616249,
          0.09217418890021745,
          4.406217013816953,
          0.8044523163552603,
          0.46178319348890295,
          0.8187916048625656,
          0.6322770098285594,
          0.1690639953878187,
          2.285268818090052,
          2.251274289565673,
          0.571168998065096,
          0.3963745843363421,
          1.1034380190159254,
          0,
          0.4886285030919034,
          0.245885100921309,
          0,
          0.8317185736861186,
          0.45537840683182906,
          0,
          0,
          0.44296190039119,
          2.7103723281666374,
          0,
          0,
          0.44893018657980466,
          0.17885672530074237,
          0,
          1.1937525336426478,
          0,
          0.18418577940811187,
          0,
          0,
          0,
          0,
          0.8745696707487663,
          0.23492302484756822,
          0.6616022040718074,
          0.888395487651434,
          0.02364926264283773,
          0.19851043537819213,
          0.03870009472827651,
          0.41676989486598626,
          0.24596400986553646,
          0.38785590333495235,
          1.2909600373943433,
          0,
          0.2498569588722117,
          0,
          1.2393089426375863,
          0.06342815435936444,
          0.08672709452728933,
          1.945708479875134,
          0,
          0.2841984887351531,
          0,
          0,
          0.9572883204075215,
          3.1704371640500844,
          0,
          0,
          0,
          0.5003447706631233,
          0,
          0.5568349965336351,
          0.9133796662567324,
          0.6955660480390848,
          0.4780033612429886,
          0.3124862161539994,
          0,
          3.914421418600662,
          0,
          0,
          1.4901249920472066,
          0,
          0,
          0.9471432492132701,
          0.674781121099671,
          0,
          0,
          1.0473288647938694,
          0.7374253547039707,
          0.746155417438833,
          3.0641062755654036,
          0,
          0,
          3.1064901412011077,
          0.1758274038094897,
          0,
          0.5416317940761661,
          0,
          0,
          0,
          0.883889514564584,
          0.7008426766991712,
          1.628152820735429,
          0.978099722610708,
          0.6708959800913803,
          0.47314849473617215,
          0,
          0.6504198202750974,
          0.25829050075349846,
          0,
          1.3225396759016317,
          0,
          0.9775099241477254,
          0.544029891892515,
          0,
          0,
          1.7946601454958806,
          0.9081988877445814,
          0,
          0.7247969502761523,
          6.92693140396628,
          0.8586097305536863,
          5.673112026315135,
          1.1193960226073196,
          0,
          0,
          0.8889151192844221,
          0.8473046786414065,
          0,
          0,
          0,
          0.5359047063698142,
          0,
          1.0939947330094708,
          0,
          0,
          0.7348386378563144,
          0.24706994901113577,
          0,
          0,
          0,
          0,
          2.789808087394099,
          0.507943249870979,
          1.1858362204209218,
          0,
          0.14598683934485757,
          2.330221555709811,
          0,
          0.6087368769384796,
          0,
          0.23922659737432816,
          0.08706871379994352,
          1.723090963039932,
          0,
          0,
          0.02376692164742855,
          0.4499584043718038,
          0,
          0.36517067224804967,
          3.0286314794076015,
          0,
          1.2345257404593988,
          0.4905833818973895,
          1.0743818528515676,
          0.7295442526773882,
          0.8397055616460962,
          2.1307456994505367,
          0.786348422200204,
          1.8183380286343176,
          0.15423706591857222,
          0.38071678780718954,
          1.5443444641479158,
          0.8277493630821708,
          0,
          0,
          0.8223589095694722,
          0,
          0.28145344302158415,
          0,
          2.698951635301595,
          0.7852328120112153,
          0.9635856871798385,
          0,
          3.9626662442821976,
          0,
          0,
          0.20703953137765918,
          1.4131409816368192,
          1.9139290262232482,
          0.07214256424213183,
          0.9608362514974643,
          0.6924444975786408,
          0,
          0,
          0.34068675734749676,
          0,
          0.34637655285695523,
          0,
          2.168827954501111,
          0.10361312528563116,
          0.17680743454186865,
          0,
          0.332213284070614,
          0.5402631440141225,
          0.6322385878887213,
          0.9793608205999478,
          0.5361455474110605,
          0,
          0.3840488309373997,
          1.310515262341532,
          0,
          0,
          0.7084455148949439,
          1.0534203684131116,
          7.690250480865596,
          1.372001011880082,
          0,
          0.6807916477578029,
          4.086562299208906,
          1.5203433723804296,
          0,
          0,
          2.4434289302800147,
          0.9640654308829227,
          0,
          0,
          0,
          0.9587386576017358,
          0.8936280894328649,
          1.7897297291294993,
          0,
          0.6744905129256399,
          0.8172604446753524,
          0.18776062096704105,
          0.06501829315386198,
          0,
          0.33248356372045873,
          0.39894844285194486,
          0.8359075661249081,
          0.9532049577873756,
          0,
          1.1858717912784176,
          1.6566700005897184,
          0,
          3.2704710431801143,
          0.1440250232314837,
          0,
          0,
          0.8091809867274788,
          1.6742241006613603,
          1.8588475365326589,
          0,
          0.8027627629902339,
          2.43750073752401,
          0.34561499344223434,
          2.114604912117153,
          0,
          0,
          0.34704296186515626,
          0.3073433024816239,
          0.9251665651141419,
          0.26022348543357254,
          0.006789332016227889,
          0,
          0.3295081020396057,
          0,
          1.9696912056036806,
          2.9150833928539117,
          0.17928120413833415,
          0,
          0,
          0,
          0.11968068103254725,
          0,
          0,
          1.403031456890379,
          0,
          0,
          0.49839726414526786,
          0,
          0,
          0.9056321997712562,
          0.10002561533257226,
          0.8145861750792391,
          0.6059486071995205,
          0.13798557138558754,
          1.1843879971544236,
          0,
          0.3590335542676727,
          0,
          1.9007610768612504,
          0.9812752501881894,
          1.1112839648388817,
          0.737222232788322,
          0,
          0.9737419597006872,
          0,
          0.7329486762804274,
          0.8664237971824081,
          0.2228078573222998,
          1.352830643633367,
          0.5288241187444774,
          0.6750071584633529,
          0.9924408635735197,
          0.23079374800961494,
          0.9988320549455956,
          0,
          0.27868092050779114,
          1.7513543788030879,
          0.5919368365336657,
          1.6141948687472094,
          0,
          1.1620682959018316,
          1.0364903579972273,
          0.19563079313964438,
          0,
          1.9063231247641297,
          0.25011669650957347,
          0.542567390539692,
          1.3334917104786896,
          1.2587002088075954,
          1.2234579974166317,
          1.352749431717631,
          0.2885232015770691,
          0,
          0,
          1.043220602686073,
          0.3933605690736389,
          0,
          1.1198960127398858,
          0,
          0,
          0.6663770216356552,
          0.3741285030824393,
          1.196588926270656,
          0.4502472658557629,
          0,
          0,
          1.6256136031359747,
          0.4130974290770376,
          0.656094287646207,
          0.6279065808124088,
          0.17125692673259352,
          0.6297850138920097,
          0.5539055255517653,
          0,
          0.23333175051364574,
          0.27827009046738005,
          0.7739253096797657,
          0,
          0,
          1.544935162251135,
          0,
          6.49240109451089,
          0,
          0,
          0.2671357104746095,
          0.6258237460274426,
          0,
          0.3243152826169562,
          0,
          0.07547952707919658,
          0.9199951383210369,
          0.6504009849073791,
          0.857729893594094,
          0,
          0.38181632711460334,
          0.2464027757531797,
          0.6382532766566428,
          0.9757779025380123,
          0.23719179143988878,
          1.3668220236183268,
          2.0812866651394453,
          0,
          0,
          0.11356873990203187,
          0.43083971877587635,
          0.3799245668582085,
          0.6324379596580478,
          0,
          0.0592611764544454,
          3.2122498203807166,
          0,
          3.6970795139635046,
          0.38369323814772316,
          0,
          0.8129360042877547,
          0,
          0.36055409852600906,
          2.438807180501548,
          1.5304596070799523,
          0.38655634362564106,
          0.48490041852932997,
          0,
          2.1979684783386433,
          1.5369033765049693,
          3.7735803385805142,
          0.07601574612351458,
          0,
          0.5058098603388822,
          0,
          0,
          0.431436125289669,
          0.3661277295030254,
          0,
          0.028984759824275397,
          0,
          1.4885943829031474,
          1.7484091379754663,
          0.9622446501761819,
          0,
          1.309423727761692,
          0.12997710028074227,
          0.1635957041454451,
          0.9992238019415622,
          2.62134590738686,
          0.04783634187472108,
          2.4931364299176457,
          3.35178688362717,
          0.844480973080521,
          0.8912305505506014,
          0.8163141362807906,
          0,
          0,
          0.9737992617677457,
          0,
          0.06296887440935983,
          0.8803118779313918,
          0.8680841536554387,
          0.2143303658417144,
          0,
          0.8938512924228256,
          1.7385765014344479,
          0,
          0,
          0.9464379477990477,
          2.583785814171399,
          1.0896569171291786,
          0.0711131620540103,
          0,
          0.5339305692813834,
          0.5200963608828699,
          0.904942796204542,
          1.2386457551177552,
          1.2456608817663952,
          0.2406976273893957,
          0,
          0,
          0,
          0.6741961557520808,
          0.5257298834569399,
          0.2012553951606575,
          0,
          0.460703069564365,
          0.4571184764705054,
          0.7419975960794876,
          1.3891327500487054,
          0,
          0.7701763544528033,
          0.37736477908341937,
          0.18136081516135572,
          0.4049223245779031,
          0.6004948921075749,
          1.604476326820405,
          0.10130709595642406,
          0,
          0.5234263340863659,
          0,
          0,
          0.004653563339198641,
          0.05508091551778649,
          0.7233319033121784,
          0,
          0,
          0,
          0.7666214341213224,
          0.171334187685254,
          0,
          0.6726291039184499,
          0.5314500806235319,
          0.9997794957761622,
          1.0169772586168282,
          0,
          0.528558148643428,
          0.5371465861160224,
          0,
          0,
          2.4315485410578024,
          0,
          0,
          0,
          0,
          0,
          0.3536001179303223,
          0.7782813604509025,
          0,
          1.2331509086741592,
          0,
          0.10555098757459047,
          0.8844798555459374,
          1.9840500673708994,
          0.15494085852646555,
          0.22192570910593135,
          0.9028963423043335,
          1.6824227647915686,
          0,
          1.5376071106131015,
          2.426971151992979,
          0,
          1.5656490098864253,
          1.2759002110378432,
          1.4901680842722276,
          0.003798081369192241,
          0,
          0,
          0.7286703502809209,
          0,
          1.1893815135907808,
          0.8323486777514436,
          0,
          0.4511486177780134,
          0,
          0,
          0,
          0,
          0,
          0.3347950267254767,
          0,
          0.9788100832838064,
          0,
          0,
          0.9639576424389001,
          2.231850872320007,
          0,
          0.6636139703639105,
          0.21637071583964185,
          0.08208924755598601,
          0,
          0,
          0.26825545336548773,
          1.169773175303616,
          1.3275925491366818,
          1.680624216289468,
          2.9798965573639467,
          0,
          0,
          0,
          0.5272588830155336,
          1.489710568134176,
          0,
          0.08358643136946775,
          0.48750766900676545,
          1.123457833322106,
          0,
          0.8214338633157878,
          0.4627918487936037,
          0,
          1.5756685765415144,
          0.8688433325762086,
          1.2316722908494175,
          0.004990929358516305,
          0.29850576254795014,
          1.3343925407837676,
          0,
          0.44352597274887706,
          0,
          0.0763351868160892,
          0,
          1.9588501923889186,
          1.0694354553875567,
          0,
          1.4848926630787287,
          1.7562418340314498,
          1.7183326790210813,
          0.6373904407546794,
          0.464080090536787,
          0,
          0.14175381741340476,
          0.7949342091312203,
          0,
          0,
          1.4331128540723816,
          0,
          0.5258972134317442,
          0.8806803448947211,
          0.08030307478674092,
          0.5096036866933171,
          0,
          0,
          0,
          0.6652507362730913,
          0.8240682190570043,
          0.9669620483819097,
          1.458805283311571,
          0,
          0.33036434983011487,
          0.31956778643156614,
          0,
          0,
          1.280730462425155,
          0.10040109080004889,
          0.5193996870298508,
          0.48318517616796564,
          1.5057422051456653,
          0,
          0.9267793729729742,
          1.9675842929113367,
          0.39939443832637656,
          0.8561543571869811,
          0.9120331971357115,
          0.9241749605538297,
          1.103307991812513,
          0,
          1.9708041217338035,
          0.4437098904329275,
          0.4392401940691899,
          0.6056069969455125,
          0.34171637604921423,
          0,
          3.666127271799944,
          0,
          0.10981062821539578,
          0,
          0.3275911702077565,
          0.20780890961855325,
          1.20919533474754,
          1.8583611928672277,
          0.9378967481957672,
          0.9272584009561922,
          0,
          0.10663088622555872,
          0.7673281902323418,
          0.39003145570348097,
          1.3800630503848414,
          0.8777086764718429,
          0.3058155356489328,
          0.5864605598184582,
          1.544977418831099,
          0,
          0.8840183139576226,
          1.6981792915522613,
          0,
          1.7386662643706567,
          0.4471555675813923,
          1.7620700959461417,
          0,
          0,
          0,
          0.774411497244217,
          0,
          0.9492557651668065,
          0,
          0.6686154872113007,
          0,
          0,
          0,
          0,
          0,
          0,
          1.5586772373222748,
          0.03856733624466124,
          1.7154321719379042,
          0,
          0,
          0.9121189737413823,
          0,
          0.6276620783563296,
          0.29577139846221956,
          0.951419497167622,
          0.48604022192874186,
          0,
          0,
          0.5426596044747038,
          0.7583887323850121,
          0.6489933738368034,
          1.0354287859458826,
          0.7119039614548673,
          0.22055754529810834,
          0.30342083279143184,
          0.3057565481937766,
          0,
          0,
          2.3567604652244842,
          1.7176267781886374,
          0.3306465279545916,
          0,
          0.6519416688342357,
          1.6480878402741141,
          1.1850481995828481,
          0.3822466548743265,
          0.7627409644569321,
          0,
          0.511684197345164,
          0.08663808857965516,
          1.4233174647329556,
          1.3700134787816904,
          0,
          0.7605898159611574,
          0.46249979870632907,
          0,
          0.14235732162417003,
          0.2976130498755064,
          0.9671980841098707,
          0,
          0.14462086839519706,
          0,
          0,
          1.955180251890805,
          0.8928768711023379,
          0,
          0.923504639429758,
          0,
          0,
          0.24931803129687424,
          0,
          0,
          1.6091202439601318,
          0.41850568585796977,
          0.6907770002089185,
          2.398247619375637,
          0,
          1.78805325079001,
          0,
          0.276564519527152,
          0.07449280684131654,
          0.08796112090390318,
          0,
          0.560317376509565,
          0,
          0,
          0.9728066373390982,
          0,
          0,
          0,
          0.8536759435420486,
          0.5743557649977793,
          0.02262483450143027,
          0.4664304359163701,
          1.8692302251657893,
          0.17398624133690577,
          0.20329918343021958,
          0,
          0.6060934148296802,
          0,
          0.5954853881235517,
          0.9442007109860059,
          0.7620888030448868,
          0,
          0.3168731043310673,
          1.7046178377037275,
          0,
          0.31920364730565254,
          0.8726748844773542,
          0,
          0,
          1.4030129215469196,
          0.3209784318769635,
          0.609533256378512,
          0,
          0.30501562980396024,
          0,
          0,
          0,
          0,
          0.028074454977708774,
          0,
          0.6827675851425283,
          2.451807774438084,
          0.1286082231260156,
          0.5079685589889864,
          0.44546616648750814,
          0.654410167522685,
          0,
          0.3654087913647781,
          1.6728093650443012,
          0.8881137186736348,
          1.6062328622485622,
          0,
          0.9537983042363153,
          0.5787052547907032,
          0.9683483416876828,
          0,
          0,
          0.8940145170737873,
          1.977102287817453,
          0.35196346649608634,
          0,
          0,
          0,
          0.4736234944726898,
          0,
          0,
          2.4346279753442888,
          0.39124352852641553,
          1.2280545889298273,
          0.3818178579925503,
          0,
          0.678328133001444,
          0,
          0.4972432217336037,
          0,
          0.43378286232404784,
          0.6645310657572054,
          0.9458812665640286,
          0.17787363353934693,
          0.1978630437352239,
          0.9552627020528879,
          0,
          0,
          0,
          0,
          0.43697306160622784,
          0.7599785514681896,
          0.6867131110136746,
          0,
          0.41064871500565636,
          0.9699163316658093,
          0.22532057282848683,
          0.7610184806084461,
          0,
          0,
          0.5404524987879193,
          0,
          0.39835042632641315,
          0.6087046162854642,
          0.7822906148509031,
          0.50299116317681,
          0.9434424345106078,
          1.1197587161084221,
          1.5653276372041698,
          0.16315132691232703,
          0,
          0.3827156973265583,
          0,
          1.0698432712302777,
          0.9286493024826439,
          1.8696540028445325,
          0.7332634536896763,
          0.8531696827644553,
          0,
          0.6992459099813164,
          0,
          0,
          0,
          0,
          0.9144997881126864,
          1.1937432939971087,
          0.6851581148276427,
          0.8293713966059896,
          0,
          0,
          0.8087361650512122,
          0.012547979960726319,
          0.7257611526209289,
          0.3168664001950925,
          0.009020342704363915,
          0.9122163394107222,
          0.3522207881231846,
          0,
          0.7028986674923992,
          0,
          0,
          0,
          0.09891499050653696,
          0.21104333627597804,
          0.8736361118457563,
          0.9056553443897537,
          0.13171132484684545,
          0,
          0.9037295103396641,
          0.09136893741869234,
          0.048498056249717925,
          0,
          0.3984104134761749,
          0.14065778375492832,
          0,
          0.35274088170815576,
          0.20969327126675485,
          0.8503887738546366,
          0.9358862800805208,
          0.4205464813504364,
          1.9641961598399298,
          0.8118769311018059,
          0,
          0,
          0.5886534168366513,
          0,
          0,
          0.5812232520153932,
          0,
          0,
          0,
          0,
          0,
          0.38785702495285534,
          1.3668068094875496,
          0.11625776268725851,
          0.6207404099182561,
          0,
          0,
          0,
          0,
          0,
          0.8731743598002871,
          0.02993891617274036,
          0,
          0,
          0.6201804428264939,
          0.9930576854822315,
          0.0935370368094377,
          0.873243229127469,
          0,
          0.6816117720326936,
          0.4421039087263139,
          0.5540471264506868,
          0,
          0.4297076636663586,
          0.6506736318584669,
          0.10744895970590063,
          0,
          0.3374430464605551,
          0.18382394820805803,
          0.7221849204004283,
          1.6949201203879303,
          0.14653143062651286,
          0.29318080591502693,
          0.23072597194398536,
          0,
          0.08893986310181046,
          0,
          1.7943474798316075,
          0.2714639624205626,
          0,
          0.1791237660739451,
          0.9496964763956648,
          0,
          1.0111339825310246,
          0,
          0.5482216287549908,
          0.6260866439447903,
          0,
          0.17992543955632567,
          2.2285743389505197,
          0,
          0.7369212957546467,
          0,
          1.268336590506523,
          0,
          0.7583519133093798,
          1.4772551528175928,
          0,
          0,
          1.1839646836397435,
          0,
          0.04641952707967545,
          0,
          1.6961436170578725,
          0.9212388506920028,
          0.7172320226231486,
          0.5769468081992525,
          0,
          0.3436681633223877,
          0,
          0,
          0.40074250716251325,
          0,
          0.7548692788948126,
          0.8069367033218762,
          0,
          0,
          0,
          0,
          1.9037014198268445,
          0.31222574800600156,
          0.470340945969585,
          0,
          0.69100961610461,
          0,
          0,
          0.2109912496330144,
          0,
          0.8102065964372098,
          0,
          1.8958056479585446,
          0,
          0,
          0.18462845248630932,
          0.8667090376410101,
          0.18136110166787067,
          0.5290783467616302,
          1.2950407347186457,
          0,
          0.28187875706791543,
          0,
          0,
          0.8345774226411554,
          0.6166438079657304,
          0.1209149740434855,
          0,
          0,
          0.41653714011735377,
          0,
          0,
          0,
          0,
          0,
          0.13204311394731205,
          0.6076901926269559,
          0.37140965095294254,
          0.1446908640862714,
          0.47635052498581476,
          0.5421520959755781,
          0,
          0.4672532614759225,
          0,
          0,
          0,
          0,
          0.5027097462954361,
          0,
          1.2617703183871385,
          0.5465312841220942,
          0.7677665876503297,
          0.8647403872333709,
          0,
          0,
          0,
          0.49997626966761577,
          0,
          0,
          0,
          0.9281962376309201,
          0,
          0.45140343342310585,
          0,
          1.0030353910826721,
          0.7390831791500426,
          0.7463652006067297,
          0,
          0,
          0.022160666885136404,
          0.2808162865011825,
          0,
          0.5977168449101298,
          0,
          0,
          0.8867899067023212,
          0.8432067941239505,
          0,
          0,
          1.124093451284704,
          0.9306772519914276,
          0.9534423617317845,
          0.1277598294646638,
          0,
          0,
          0,
          0,
          0.9171480198011251,
          0.7727799290426812,
          0,
          0,
          1.9985524409131665,
          1.3706138593530706,
          0.6205016060153496,
          1.3269933621935464,
          0,
          0,
          0.2867513704781449,
          0.371979754816802,
          0,
          1.5368169075809817,
          0.009186091417721087,
          0.3342287030024127,
          1.3973601381336926,
          0,
          0.8456006454705769,
          0,
          0,
          0.9117316511059101,
          0.17711314055835325,
          0,
          0.3344253788926548,
          1.675172086314786,
          1.9587138800553303,
          1.7937612170481925,
          0.29900857949999626,
          0.36936943885541784,
          0.04145527060090459,
          0,
          0.053499294084981,
          0.7582335469620429,
          1.6804528835528516,
          1.629380038136038,
          0.10979027551215315,
          0.16866672846913666,
          0,
          0.9334259796938347,
          1.2576970159009198,
          0,
          0.5221577075313386,
          0,
          0.2433286101279768,
          0.2996931658949509,
          0,
          0.12900490402405163,
          3.962964952000285,
          0,
          0,
          0,
          0,
          0.7304557236339463,
          0.6731736925634918,
          0.7038811819416949,
          0.03606488323023593,
          0.4445368022548297,
          0.6824048621648666,
          1.1846692498152933,
          0,
          0,
          0,
          0.8427962715257897,
          0,
          0,
          0,
          1.4787645931040174,
          0.22005608459924653,
          0.9892248273853486,
          1.8742756339798914,
          0,
          0.11331049106080626,
          0,
          0,
          0.18427106564810702,
          1.028749512170107,
          0.8104828259504029,
          0.2126525556360379,
          0.702269364413483,
          0,
          0.0838784350528371,
          0,
          0.7396846926911298,
          1.3264602427734702,
          0.9702400306221659,
          0.8596378674718649,
          2.836800605043776,
          0,
          0.33049275847820103,
          2.3628863814740857,
          0,
          0.9607159427520189,
          0.5109045824080882,
          0.5110084774952381,
          0.22777272096132428,
          0,
          0,
          0.7434133789594249,
          0.24898210386765296,
          0.8540332747791524,
          0.7571538566380097,
          0.7504710510043173,
          1.0282607441552045,
          1.297645601677217,
          1.3800566322371393,
          1.3680099046369465,
          0.9275844209650581,
          0.8803836042279656,
          0.11390700880222315,
          0.6694819124741369,
          0.3498112165622651,
          0.8401795081469151,
          0.8719863171073852,
          0,
          0,
          0,
          0,
          2.9738969093057026,
          0,
          0,
          0,
          0,
          0,
          0.12156640704459154,
          0.4474496402064253,
          0,
          0.5372959175403389
         ],
         "yaxis": "y"
        }
       ],
       "layout": {
        "legend": {
         "tracegroupgap": 0
        },
        "template": {
         "data": {
          "bar": [
           {
            "error_x": {
             "color": "#2a3f5f"
            },
            "error_y": {
             "color": "#2a3f5f"
            },
            "marker": {
             "line": {
              "color": "white",
              "width": 0.5
             },
             "pattern": {
              "fillmode": "overlay",
              "size": 10,
              "solidity": 0.2
             }
            },
            "type": "bar"
           }
          ],
          "barpolar": [
           {
            "marker": {
             "line": {
              "color": "white",
              "width": 0.5
             },
             "pattern": {
              "fillmode": "overlay",
              "size": 10,
              "solidity": 0.2
             }
            },
            "type": "barpolar"
           }
          ],
          "carpet": [
           {
            "aaxis": {
             "endlinecolor": "#2a3f5f",
             "gridcolor": "#C8D4E3",
             "linecolor": "#C8D4E3",
             "minorgridcolor": "#C8D4E3",
             "startlinecolor": "#2a3f5f"
            },
            "baxis": {
             "endlinecolor": "#2a3f5f",
             "gridcolor": "#C8D4E3",
             "linecolor": "#C8D4E3",
             "minorgridcolor": "#C8D4E3",
             "startlinecolor": "#2a3f5f"
            },
            "type": "carpet"
           }
          ],
          "choropleth": [
           {
            "colorbar": {
             "outlinewidth": 0,
             "ticks": ""
            },
            "type": "choropleth"
           }
          ],
          "contour": [
           {
            "colorbar": {
             "outlinewidth": 0,
             "ticks": ""
            },
            "colorscale": [
             [
              0,
              "#0d0887"
             ],
             [
              0.1111111111111111,
              "#46039f"
             ],
             [
              0.2222222222222222,
              "#7201a8"
             ],
             [
              0.3333333333333333,
              "#9c179e"
             ],
             [
              0.4444444444444444,
              "#bd3786"
             ],
             [
              0.5555555555555556,
              "#d8576b"
             ],
             [
              0.6666666666666666,
              "#ed7953"
             ],
             [
              0.7777777777777778,
              "#fb9f3a"
             ],
             [
              0.8888888888888888,
              "#fdca26"
             ],
             [
              1,
              "#f0f921"
             ]
            ],
            "type": "contour"
           }
          ],
          "contourcarpet": [
           {
            "colorbar": {
             "outlinewidth": 0,
             "ticks": ""
            },
            "type": "contourcarpet"
           }
          ],
          "heatmap": [
           {
            "colorbar": {
             "outlinewidth": 0,
             "ticks": ""
            },
            "colorscale": [
             [
              0,
              "#0d0887"
             ],
             [
              0.1111111111111111,
              "#46039f"
             ],
             [
              0.2222222222222222,
              "#7201a8"
             ],
             [
              0.3333333333333333,
              "#9c179e"
             ],
             [
              0.4444444444444444,
              "#bd3786"
             ],
             [
              0.5555555555555556,
              "#d8576b"
             ],
             [
              0.6666666666666666,
              "#ed7953"
             ],
             [
              0.7777777777777778,
              "#fb9f3a"
             ],
             [
              0.8888888888888888,
              "#fdca26"
             ],
             [
              1,
              "#f0f921"
             ]
            ],
            "type": "heatmap"
           }
          ],
          "heatmapgl": [
           {
            "colorbar": {
             "outlinewidth": 0,
             "ticks": ""
            },
            "colorscale": [
             [
              0,
              "#0d0887"
             ],
             [
              0.1111111111111111,
              "#46039f"
             ],
             [
              0.2222222222222222,
              "#7201a8"
             ],
             [
              0.3333333333333333,
              "#9c179e"
             ],
             [
              0.4444444444444444,
              "#bd3786"
             ],
             [
              0.5555555555555556,
              "#d8576b"
             ],
             [
              0.6666666666666666,
              "#ed7953"
             ],
             [
              0.7777777777777778,
              "#fb9f3a"
             ],
             [
              0.8888888888888888,
              "#fdca26"
             ],
             [
              1,
              "#f0f921"
             ]
            ],
            "type": "heatmapgl"
           }
          ],
          "histogram": [
           {
            "marker": {
             "pattern": {
              "fillmode": "overlay",
              "size": 10,
              "solidity": 0.2
             }
            },
            "type": "histogram"
           }
          ],
          "histogram2d": [
           {
            "colorbar": {
             "outlinewidth": 0,
             "ticks": ""
            },
            "colorscale": [
             [
              0,
              "#0d0887"
             ],
             [
              0.1111111111111111,
              "#46039f"
             ],
             [
              0.2222222222222222,
              "#7201a8"
             ],
             [
              0.3333333333333333,
              "#9c179e"
             ],
             [
              0.4444444444444444,
              "#bd3786"
             ],
             [
              0.5555555555555556,
              "#d8576b"
             ],
             [
              0.6666666666666666,
              "#ed7953"
             ],
             [
              0.7777777777777778,
              "#fb9f3a"
             ],
             [
              0.8888888888888888,
              "#fdca26"
             ],
             [
              1,
              "#f0f921"
             ]
            ],
            "type": "histogram2d"
           }
          ],
          "histogram2dcontour": [
           {
            "colorbar": {
             "outlinewidth": 0,
             "ticks": ""
            },
            "colorscale": [
             [
              0,
              "#0d0887"
             ],
             [
              0.1111111111111111,
              "#46039f"
             ],
             [
              0.2222222222222222,
              "#7201a8"
             ],
             [
              0.3333333333333333,
              "#9c179e"
             ],
             [
              0.4444444444444444,
              "#bd3786"
             ],
             [
              0.5555555555555556,
              "#d8576b"
             ],
             [
              0.6666666666666666,
              "#ed7953"
             ],
             [
              0.7777777777777778,
              "#fb9f3a"
             ],
             [
              0.8888888888888888,
              "#fdca26"
             ],
             [
              1,
              "#f0f921"
             ]
            ],
            "type": "histogram2dcontour"
           }
          ],
          "mesh3d": [
           {
            "colorbar": {
             "outlinewidth": 0,
             "ticks": ""
            },
            "type": "mesh3d"
           }
          ],
          "parcoords": [
           {
            "line": {
             "colorbar": {
              "outlinewidth": 0,
              "ticks": ""
             }
            },
            "type": "parcoords"
           }
          ],
          "pie": [
           {
            "automargin": true,
            "type": "pie"
           }
          ],
          "scatter": [
           {
            "fillpattern": {
             "fillmode": "overlay",
             "size": 10,
             "solidity": 0.2
            },
            "type": "scatter"
           }
          ],
          "scatter3d": [
           {
            "line": {
             "colorbar": {
              "outlinewidth": 0,
              "ticks": ""
             }
            },
            "marker": {
             "colorbar": {
              "outlinewidth": 0,
              "ticks": ""
             }
            },
            "type": "scatter3d"
           }
          ],
          "scattercarpet": [
           {
            "marker": {
             "colorbar": {
              "outlinewidth": 0,
              "ticks": ""
             }
            },
            "type": "scattercarpet"
           }
          ],
          "scattergeo": [
           {
            "marker": {
             "colorbar": {
              "outlinewidth": 0,
              "ticks": ""
             }
            },
            "type": "scattergeo"
           }
          ],
          "scattergl": [
           {
            "marker": {
             "colorbar": {
              "outlinewidth": 0,
              "ticks": ""
             }
            },
            "type": "scattergl"
           }
          ],
          "scattermapbox": [
           {
            "marker": {
             "colorbar": {
              "outlinewidth": 0,
              "ticks": ""
             }
            },
            "type": "scattermapbox"
           }
          ],
          "scatterpolar": [
           {
            "marker": {
             "colorbar": {
              "outlinewidth": 0,
              "ticks": ""
             }
            },
            "type": "scatterpolar"
           }
          ],
          "scatterpolargl": [
           {
            "marker": {
             "colorbar": {
              "outlinewidth": 0,
              "ticks": ""
             }
            },
            "type": "scatterpolargl"
           }
          ],
          "scatterternary": [
           {
            "marker": {
             "colorbar": {
              "outlinewidth": 0,
              "ticks": ""
             }
            },
            "type": "scatterternary"
           }
          ],
          "surface": [
           {
            "colorbar": {
             "outlinewidth": 0,
             "ticks": ""
            },
            "colorscale": [
             [
              0,
              "#0d0887"
             ],
             [
              0.1111111111111111,
              "#46039f"
             ],
             [
              0.2222222222222222,
              "#7201a8"
             ],
             [
              0.3333333333333333,
              "#9c179e"
             ],
             [
              0.4444444444444444,
              "#bd3786"
             ],
             [
              0.5555555555555556,
              "#d8576b"
             ],
             [
              0.6666666666666666,
              "#ed7953"
             ],
             [
              0.7777777777777778,
              "#fb9f3a"
             ],
             [
              0.8888888888888888,
              "#fdca26"
             ],
             [
              1,
              "#f0f921"
             ]
            ],
            "type": "surface"
           }
          ],
          "table": [
           {
            "cells": {
             "fill": {
              "color": "#EBF0F8"
             },
             "line": {
              "color": "white"
             }
            },
            "header": {
             "fill": {
              "color": "#C8D4E3"
             },
             "line": {
              "color": "white"
             }
            },
            "type": "table"
           }
          ]
         },
         "layout": {
          "annotationdefaults": {
           "arrowcolor": "#2a3f5f",
           "arrowhead": 0,
           "arrowwidth": 1
          },
          "autotypenumbers": "strict",
          "coloraxis": {
           "colorbar": {
            "outlinewidth": 0,
            "ticks": ""
           }
          },
          "colorscale": {
           "diverging": [
            [
             0,
             "#8e0152"
            ],
            [
             0.1,
             "#c51b7d"
            ],
            [
             0.2,
             "#de77ae"
            ],
            [
             0.3,
             "#f1b6da"
            ],
            [
             0.4,
             "#fde0ef"
            ],
            [
             0.5,
             "#f7f7f7"
            ],
            [
             0.6,
             "#e6f5d0"
            ],
            [
             0.7,
             "#b8e186"
            ],
            [
             0.8,
             "#7fbc41"
            ],
            [
             0.9,
             "#4d9221"
            ],
            [
             1,
             "#276419"
            ]
           ],
           "sequential": [
            [
             0,
             "#0d0887"
            ],
            [
             0.1111111111111111,
             "#46039f"
            ],
            [
             0.2222222222222222,
             "#7201a8"
            ],
            [
             0.3333333333333333,
             "#9c179e"
            ],
            [
             0.4444444444444444,
             "#bd3786"
            ],
            [
             0.5555555555555556,
             "#d8576b"
            ],
            [
             0.6666666666666666,
             "#ed7953"
            ],
            [
             0.7777777777777778,
             "#fb9f3a"
            ],
            [
             0.8888888888888888,
             "#fdca26"
            ],
            [
             1,
             "#f0f921"
            ]
           ],
           "sequentialminus": [
            [
             0,
             "#0d0887"
            ],
            [
             0.1111111111111111,
             "#46039f"
            ],
            [
             0.2222222222222222,
             "#7201a8"
            ],
            [
             0.3333333333333333,
             "#9c179e"
            ],
            [
             0.4444444444444444,
             "#bd3786"
            ],
            [
             0.5555555555555556,
             "#d8576b"
            ],
            [
             0.6666666666666666,
             "#ed7953"
            ],
            [
             0.7777777777777778,
             "#fb9f3a"
            ],
            [
             0.8888888888888888,
             "#fdca26"
            ],
            [
             1,
             "#f0f921"
            ]
           ]
          },
          "colorway": [
           "#636efa",
           "#EF553B",
           "#00cc96",
           "#ab63fa",
           "#FFA15A",
           "#19d3f3",
           "#FF6692",
           "#B6E880",
           "#FF97FF",
           "#FECB52"
          ],
          "font": {
           "color": "#2a3f5f"
          },
          "geo": {
           "bgcolor": "white",
           "lakecolor": "white",
           "landcolor": "white",
           "showlakes": true,
           "showland": true,
           "subunitcolor": "#C8D4E3"
          },
          "hoverlabel": {
           "align": "left"
          },
          "hovermode": "closest",
          "mapbox": {
           "style": "light"
          },
          "paper_bgcolor": "white",
          "plot_bgcolor": "white",
          "polar": {
           "angularaxis": {
            "gridcolor": "#EBF0F8",
            "linecolor": "#EBF0F8",
            "ticks": ""
           },
           "bgcolor": "white",
           "radialaxis": {
            "gridcolor": "#EBF0F8",
            "linecolor": "#EBF0F8",
            "ticks": ""
           }
          },
          "scene": {
           "xaxis": {
            "backgroundcolor": "white",
            "gridcolor": "#DFE8F3",
            "gridwidth": 2,
            "linecolor": "#EBF0F8",
            "showbackground": true,
            "ticks": "",
            "zerolinecolor": "#EBF0F8"
           },
           "yaxis": {
            "backgroundcolor": "white",
            "gridcolor": "#DFE8F3",
            "gridwidth": 2,
            "linecolor": "#EBF0F8",
            "showbackground": true,
            "ticks": "",
            "zerolinecolor": "#EBF0F8"
           },
           "zaxis": {
            "backgroundcolor": "white",
            "gridcolor": "#DFE8F3",
            "gridwidth": 2,
            "linecolor": "#EBF0F8",
            "showbackground": true,
            "ticks": "",
            "zerolinecolor": "#EBF0F8"
           }
          },
          "shapedefaults": {
           "line": {
            "color": "#2a3f5f"
           }
          },
          "ternary": {
           "aaxis": {
            "gridcolor": "#DFE8F3",
            "linecolor": "#A2B1C6",
            "ticks": ""
           },
           "baxis": {
            "gridcolor": "#DFE8F3",
            "linecolor": "#A2B1C6",
            "ticks": ""
           },
           "bgcolor": "white",
           "caxis": {
            "gridcolor": "#DFE8F3",
            "linecolor": "#A2B1C6",
            "ticks": ""
           }
          },
          "title": {
           "x": 0.05
          },
          "xaxis": {
           "automargin": true,
           "gridcolor": "#EBF0F8",
           "linecolor": "#EBF0F8",
           "ticks": "",
           "title": {
            "standoff": 15
           },
           "zerolinecolor": "#EBF0F8",
           "zerolinewidth": 2
          },
          "yaxis": {
           "automargin": true,
           "gridcolor": "#EBF0F8",
           "linecolor": "#EBF0F8",
           "ticks": "",
           "title": {
            "standoff": 15
           },
           "zerolinecolor": "#EBF0F8",
           "zerolinewidth": 2
          }
         }
        },
        "title": {
         "text": "Relação entre Gols Feitos e Gols Tomados - Plotly"
        },
        "xaxis": {
         "anchor": "y",
         "domain": [
          0,
          1
         ],
         "title": {
          "text": "Gols Marcados"
         }
        },
        "yaxis": {
         "anchor": "x",
         "domain": [
          0,
          1
         ],
         "title": {
          "text": "Gols Sofridos"
         }
        }
       }
      }
     },
     "metadata": {},
     "output_type": "display_data"
    }
   ],
   "source": [
    "#### solução com plotly\n",
    "fig = px.scatter(gols, x='gols_1', y='gols_2', title='Relação entre Gols Feitos e Gols Tomados - Plotly', opacity=0.5)\n",
    "fig.update_layout(xaxis_title='Gols Marcados', yaxis_title='Gols Sofridos')\n",
    "fig.show()\n",
    "\n"
   ]
  },
  {
   "cell_type": "markdown",
   "metadata": {},
   "source": [
    "#### Q4.\n",
    "\n",
    "Apresente um gráfico de barras com o top 10 países que mais participaram de copas do mundo, onde no eixo x devem estar o nome dos países e no eixo y a contagem de participações. Você deve separar a contagem de participações em copas femininas e masculinas, empilhando as barras de cada informação.\n",
    "\n",
    "No exemplo de barras empilhadas da galeria do matplotlib, imagine que a parte azul são as participações do país em copas masculinas, e em laranja as participações femininas:\n",
    "* https://matplotlib.org/stable/gallery/lines_bars_and_markers/bar_stacked.html\n",
    "\n",
    "Você deve implementar essa visualização nas três bibliotecas que vimos:\n",
    "* Matplotlib\n",
    "* Seaborn\n",
    "* Plotly\n",
    "\n",
    "Garanta que o gráfico tenha pelo menos os atributos:\n",
    "* título\n",
    "* rótulos de dimensão.\n",
    "* legenda"
   ]
  },
  {
   "cell_type": "code",
   "execution_count": 35,
   "metadata": {},
   "outputs": [
    {
     "data": {
      "image/png": "[encoded data removed]",
      "text/plain": [
       "<Figure size 1000x600 with 1 Axes>"
      ]
     },
     "metadata": {},
     "output_type": "display_data"
    }
   ],
   "source": [
    "#### solução com matplotlib\n",
    "\n",
    "# Contagem de participações por país e tipo de copa\n",
    "participacoes = wc.groupby(['país_sede', 'copa']).size().unstack(fill_value=0)\n",
    "top_10_paises = participacoes.sum(axis=1).nlargest(10).index\n",
    "top_10 = participacoes.loc[top_10_paises]\n",
    "\n",
    "# Gráfico de barras empilhadas com Matplotlib\n",
    "fig, ax = plt.subplots(figsize=(10, 6))\n",
    "ax.bar(top_10.index, top_10['Masculina'], label='Masculina', color='blue')\n",
    "ax.bar(top_10.index, top_10['Feminina'], bottom=top_10['Masculina'], label='Feminina', color='orange')\n",
    "ax.set_title('Top 10 Países com Mais Participações em Copas do Mundo')\n",
    "ax.set_xlabel('País')\n",
    "ax.set_ylabel('Número de Participações')\n",
    "ax.legend()\n",
    "plt.xticks(rotation=45)\n",
    "plt.show()"
   ]
  },
  {
   "cell_type": "code",
   "execution_count": 36,
   "metadata": {},
   "outputs": [
    {
     "data": {
      "text/plain": [
       "<matplotlib.legend.Legend at 0x7971912a6610>"
      ]
     },
     "execution_count": 36,
     "metadata": {},
     "output_type": "execute_result"
    },
    {
     "data": {
      "image/png": "[encoded data removed]",
      "text/plain": [
       "<Figure size 1000x600 with 1 Axes>"
      ]
     },
     "metadata": {},
     "output_type": "display_data"
    }
   ],
   "source": [
    "#### solução com seaborn\n",
    "top_10.reset_index(inplace=True)\n",
    "top_10_melted = top_10.melt(id_vars='país_sede', var_name='Tipo de Copa', value_name='Participações')\n",
    "plt.figure(figsize=(10, 6))\n",
    "sns.barplot(x='país_sede', y='Participações', hue='Tipo de Copa', data=top_10_melted)\n",
    "plt.title('Top 10 Países com Mais Participações em Copas do Mundo - Seaborn')\n",
    "plt.xlabel('País')\n",
    "plt.ylabel('Número de Participações')\n",
    "plt.xticks(rotation=45)\n",
    "plt.legend()"
   ]
  },
  {
   "cell_type": "code",
   "execution_count": 37,
   "metadata": {},
   "outputs": [
    {
     "data": {
      "application/vnd.plotly.v1+json": {
       "config": {
        "plotlyServerURL": "https://plot.ly"
       },
       "data": [
        {
         "alignmentgroup": "True",
         "hovertemplate": "Tipo de Copa=Feminina<br>país_sede=%{x}<br>Participações=%{y}<extra></extra>",
         "legendgroup": "Feminina",
         "marker": {
          "color": "#636efa",
          "pattern": {
           "shape": ""
          }
         },
         "name": "Feminina",
         "offsetgroup": "Feminina",
         "orientation": "v",
         "showlegend": true,
         "textposition": "auto",
         "type": "bar",
         "x": [
          "France",
          "Germany",
          "United States",
          "Brazil",
          "Mexico",
          "Italy",
          "Australia, New Zealand",
          "Korea Republic, Japan",
          "Qatar",
          "Russia"
         ],
         "xaxis": "x",
         "y": [
          52,
          32,
          64,
          0,
          0,
          0,
          64,
          0,
          0,
          0
         ],
         "yaxis": "y"
        },
        {
         "alignmentgroup": "True",
         "hovertemplate": "Tipo de Copa=Masculina<br>país_sede=%{x}<br>Participações=%{y}<extra></extra>",
         "legendgroup": "Masculina",
         "marker": {
          "color": "#EF553B",
          "pattern": {
           "shape": ""
          }
         },
         "name": "Masculina",
         "offsetgroup": "Masculina",
         "orientation": "v",
         "showlegend": true,
         "textposition": "auto",
         "type": "bar",
         "x": [
          "France",
          "Germany",
          "United States",
          "Brazil",
          "Mexico",
          "Italy",
          "Australia, New Zealand",
          "Korea Republic, Japan",
          "Qatar",
          "Russia"
         ],
         "xaxis": "x",
         "y": [
          82,
          102,
          52,
          86,
          84,
          69,
          0,
          64,
          64,
          64
         ],
         "yaxis": "y"
        }
       ],
       "layout": {
        "barmode": "stack",
        "legend": {
         "title": {
          "text": "Tipo de Copa"
         },
         "tracegroupgap": 0
        },
        "template": {
         "data": {
          "bar": [
           {
            "error_x": {
             "color": "#2a3f5f"
            },
            "error_y": {
             "color": "#2a3f5f"
            },
            "marker": {
             "line": {
              "color": "white",
              "width": 0.5
             },
             "pattern": {
              "fillmode": "overlay",
              "size": 10,
              "solidity": 0.2
             }
            },
            "type": "bar"
           }
          ],
          "barpolar": [
           {
            "marker": {
             "line": {
              "color": "white",
              "width": 0.5
             },
             "pattern": {
              "fillmode": "overlay",
              "size": 10,
              "solidity": 0.2
             }
            },
            "type": "barpolar"
           }
          ],
          "carpet": [
           {
            "aaxis": {
             "endlinecolor": "#2a3f5f",
             "gridcolor": "#C8D4E3",
             "linecolor": "#C8D4E3",
             "minorgridcolor": "#C8D4E3",
             "startlinecolor": "#2a3f5f"
            },
            "baxis": {
             "endlinecolor": "#2a3f5f",
             "gridcolor": "#C8D4E3",
             "linecolor": "#C8D4E3",
             "minorgridcolor": "#C8D4E3",
             "startlinecolor": "#2a3f5f"
            },
            "type": "carpet"
           }
          ],
          "choropleth": [
           {
            "colorbar": {
             "outlinewidth": 0,
             "ticks": ""
            },
            "type": "choropleth"
           }
          ],
          "contour": [
           {
            "colorbar": {
             "outlinewidth": 0,
             "ticks": ""
            },
            "colorscale": [
             [
              0,
              "#0d0887"
             ],
             [
              0.1111111111111111,
              "#46039f"
             ],
             [
              0.2222222222222222,
              "#7201a8"
             ],
             [
              0.3333333333333333,
              "#9c179e"
             ],
             [
              0.4444444444444444,
              "#bd3786"
             ],
             [
              0.5555555555555556,
              "#d8576b"
             ],
             [
              0.6666666666666666,
              "#ed7953"
             ],
             [
              0.7777777777777778,
              "#fb9f3a"
             ],
             [
              0.8888888888888888,
              "#fdca26"
             ],
             [
              1,
              "#f0f921"
             ]
            ],
            "type": "contour"
           }
          ],
          "contourcarpet": [
           {
            "colorbar": {
             "outlinewidth": 0,
             "ticks": ""
            },
            "type": "contourcarpet"
           }
          ],
          "heatmap": [
           {
            "colorbar": {
             "outlinewidth": 0,
             "ticks": ""
            },
            "colorscale": [
             [
              0,
              "#0d0887"
             ],
             [
              0.1111111111111111,
              "#46039f"
             ],
             [
              0.2222222222222222,
              "#7201a8"
             ],
             [
              0.3333333333333333,
              "#9c179e"
             ],
             [
              0.4444444444444444,
              "#bd3786"
             ],
             [
              0.5555555555555556,
              "#d8576b"
             ],
             [
              0.6666666666666666,
              "#ed7953"
             ],
             [
              0.7777777777777778,
              "#fb9f3a"
             ],
             [
              0.8888888888888888,
              "#fdca26"
             ],
             [
              1,
              "#f0f921"
             ]
            ],
            "type": "heatmap"
           }
          ],
          "heatmapgl": [
           {
            "colorbar": {
             "outlinewidth": 0,
             "ticks": ""
            },
            "colorscale": [
             [
              0,
              "#0d0887"
             ],
             [
              0.1111111111111111,
              "#46039f"
             ],
             [
              0.2222222222222222,
              "#7201a8"
             ],
             [
              0.3333333333333333,
              "#9c179e"
             ],
             [
              0.4444444444444444,
              "#bd3786"
             ],
             [
              0.5555555555555556,
              "#d8576b"
             ],
             [
              0.6666666666666666,
              "#ed7953"
             ],
             [
              0.7777777777777778,
              "#fb9f3a"
             ],
             [
              0.8888888888888888,
              "#fdca26"
             ],
             [
              1,
              "#f0f921"
             ]
            ],
            "type": "heatmapgl"
           }
          ],
          "histogram": [
           {
            "marker": {
             "pattern": {
              "fillmode": "overlay",
              "size": 10,
              "solidity": 0.2
             }
            },
            "type": "histogram"
           }
          ],
          "histogram2d": [
           {
            "colorbar": {
             "outlinewidth": 0,
             "ticks": ""
            },
            "colorscale": [
             [
              0,
              "#0d0887"
             ],
             [
              0.1111111111111111,
              "#46039f"
             ],
             [
              0.2222222222222222,
              "#7201a8"
             ],
             [
              0.3333333333333333,
              "#9c179e"
             ],
             [
              0.4444444444444444,
              "#bd3786"
             ],
             [
              0.5555555555555556,
              "#d8576b"
             ],
             [
              0.6666666666666666,
              "#ed7953"
             ],
             [
              0.7777777777777778,
              "#fb9f3a"
             ],
             [
              0.8888888888888888,
              "#fdca26"
             ],
             [
              1,
              "#f0f921"
             ]
            ],
            "type": "histogram2d"
           }
          ],
          "histogram2dcontour": [
           {
            "colorbar": {
             "outlinewidth": 0,
             "ticks": ""
            },
            "colorscale": [
             [
              0,
              "#0d0887"
             ],
             [
              0.1111111111111111,
              "#46039f"
             ],
             [
              0.2222222222222222,
              "#7201a8"
             ],
             [
              0.3333333333333333,
              "#9c179e"
             ],
             [
              0.4444444444444444,
              "#bd3786"
             ],
             [
              0.5555555555555556,
              "#d8576b"
             ],
             [
              0.6666666666666666,
              "#ed7953"
             ],
             [
              0.7777777777777778,
              "#fb9f3a"
             ],
             [
              0.8888888888888888,
              "#fdca26"
             ],
             [
              1,
              "#f0f921"
             ]
            ],
            "type": "histogram2dcontour"
           }
          ],
          "mesh3d": [
           {
            "colorbar": {
             "outlinewidth": 0,
             "ticks": ""
            },
            "type": "mesh3d"
           }
          ],
          "parcoords": [
           {
            "line": {
             "colorbar": {
              "outlinewidth": 0,
              "ticks": ""
             }
            },
            "type": "parcoords"
           }
          ],
          "pie": [
           {
            "automargin": true,
            "type": "pie"
           }
          ],
          "scatter": [
           {
            "fillpattern": {
             "fillmode": "overlay",
             "size": 10,
             "solidity": 0.2
            },
            "type": "scatter"
           }
          ],
          "scatter3d": [
           {
            "line": {
             "colorbar": {
              "outlinewidth": 0,
              "ticks": ""
             }
            },
            "marker": {
             "colorbar": {
              "outlinewidth": 0,
              "ticks": ""
             }
            },
            "type": "scatter3d"
           }
          ],
          "scattercarpet": [
           {
            "marker": {
             "colorbar": {
              "outlinewidth": 0,
              "ticks": ""
             }
            },
            "type": "scattercarpet"
           }
          ],
          "scattergeo": [
           {
            "marker": {
             "colorbar": {
              "outlinewidth": 0,
              "ticks": ""
             }
            },
            "type": "scattergeo"
           }
          ],
          "scattergl": [
           {
            "marker": {
             "colorbar": {
              "outlinewidth": 0,
              "ticks": ""
             }
            },
            "type": "scattergl"
           }
          ],
          "scattermapbox": [
           {
            "marker": {
             "colorbar": {
              "outlinewidth": 0,
              "ticks": ""
             }
            },
            "type": "scattermapbox"
           }
          ],
          "scatterpolar": [
           {
            "marker": {
             "colorbar": {
              "outlinewidth": 0,
              "ticks": ""
             }
            },
            "type": "scatterpolar"
           }
          ],
          "scatterpolargl": [
           {
            "marker": {
             "colorbar": {
              "outlinewidth": 0,
              "ticks": ""
             }
            },
            "type": "scatterpolargl"
           }
          ],
          "scatterternary": [
           {
            "marker": {
             "colorbar": {
              "outlinewidth": 0,
              "ticks": ""
             }
            },
            "type": "scatterternary"
           }
          ],
          "surface": [
           {
            "colorbar": {
             "outlinewidth": 0,
             "ticks": ""
            },
            "colorscale": [
             [
              0,
              "#0d0887"
             ],
             [
              0.1111111111111111,
              "#46039f"
             ],
             [
              0.2222222222222222,
              "#7201a8"
             ],
             [
              0.3333333333333333,
              "#9c179e"
             ],
             [
              0.4444444444444444,
              "#bd3786"
             ],
             [
              0.5555555555555556,
              "#d8576b"
             ],
             [
              0.6666666666666666,
              "#ed7953"
             ],
             [
              0.7777777777777778,
              "#fb9f3a"
             ],
             [
              0.8888888888888888,
              "#fdca26"
             ],
             [
              1,
              "#f0f921"
             ]
            ],
            "type": "surface"
           }
          ],
          "table": [
           {
            "cells": {
             "fill": {
              "color": "#EBF0F8"
             },
             "line": {
              "color": "white"
             }
            },
            "header": {
             "fill": {
              "color": "#C8D4E3"
             },
             "line": {
              "color": "white"
             }
            },
            "type": "table"
           }
          ]
         },
         "layout": {
          "annotationdefaults": {
           "arrowcolor": "#2a3f5f",
           "arrowhead": 0,
           "arrowwidth": 1
          },
          "autotypenumbers": "strict",
          "coloraxis": {
           "colorbar": {
            "outlinewidth": 0,
            "ticks": ""
           }
          },
          "colorscale": {
           "diverging": [
            [
             0,
             "#8e0152"
            ],
            [
             0.1,
             "#c51b7d"
            ],
            [
             0.2,
             "#de77ae"
            ],
            [
             0.3,
             "#f1b6da"
            ],
            [
             0.4,
             "#fde0ef"
            ],
            [
             0.5,
             "#f7f7f7"
            ],
            [
             0.6,
             "#e6f5d0"
            ],
            [
             0.7,
             "#b8e186"
            ],
            [
             0.8,
             "#7fbc41"
            ],
            [
             0.9,
             "#4d9221"
            ],
            [
             1,
             "#276419"
            ]
           ],
           "sequential": [
            [
             0,
             "#0d0887"
            ],
            [
             0.1111111111111111,
             "#46039f"
            ],
            [
             0.2222222222222222,
             "#7201a8"
            ],
            [
             0.3333333333333333,
             "#9c179e"
            ],
            [
             0.4444444444444444,
             "#bd3786"
            ],
            [
             0.5555555555555556,
             "#d8576b"
            ],
            [
             0.6666666666666666,
             "#ed7953"
            ],
            [
             0.7777777777777778,
             "#fb9f3a"
            ],
            [
             0.8888888888888888,
             "#fdca26"
            ],
            [
             1,
             "#f0f921"
            ]
           ],
           "sequentialminus": [
            [
             0,
             "#0d0887"
            ],
            [
             0.1111111111111111,
             "#46039f"
            ],
            [
             0.2222222222222222,
             "#7201a8"
            ],
            [
             0.3333333333333333,
             "#9c179e"
            ],
            [
             0.4444444444444444,
             "#bd3786"
            ],
            [
             0.5555555555555556,
             "#d8576b"
            ],
            [
             0.6666666666666666,
             "#ed7953"
            ],
            [
             0.7777777777777778,
             "#fb9f3a"
            ],
            [
             0.8888888888888888,
             "#fdca26"
            ],
            [
             1,
             "#f0f921"
            ]
           ]
          },
          "colorway": [
           "#636efa",
           "#EF553B",
           "#00cc96",
           "#ab63fa",
           "#FFA15A",
           "#19d3f3",
           "#FF6692",
           "#B6E880",
           "#FF97FF",
           "#FECB52"
          ],
          "font": {
           "color": "#2a3f5f"
          },
          "geo": {
           "bgcolor": "white",
           "lakecolor": "white",
           "landcolor": "white",
           "showlakes": true,
           "showland": true,
           "subunitcolor": "#C8D4E3"
          },
          "hoverlabel": {
           "align": "left"
          },
          "hovermode": "closest",
          "mapbox": {
           "style": "light"
          },
          "paper_bgcolor": "white",
          "plot_bgcolor": "white",
          "polar": {
           "angularaxis": {
            "gridcolor": "#EBF0F8",
            "linecolor": "#EBF0F8",
            "ticks": ""
           },
           "bgcolor": "white",
           "radialaxis": {
            "gridcolor": "#EBF0F8",
            "linecolor": "#EBF0F8",
            "ticks": ""
           }
          },
          "scene": {
           "xaxis": {
            "backgroundcolor": "white",
            "gridcolor": "#DFE8F3",
            "gridwidth": 2,
            "linecolor": "#EBF0F8",
            "showbackground": true,
            "ticks": "",
            "zerolinecolor": "#EBF0F8"
           },
           "yaxis": {
            "backgroundcolor": "white",
            "gridcolor": "#DFE8F3",
            "gridwidth": 2,
            "linecolor": "#EBF0F8",
            "showbackground": true,
            "ticks": "",
            "zerolinecolor": "#EBF0F8"
           },
           "zaxis": {
            "backgroundcolor": "white",
            "gridcolor": "#DFE8F3",
            "gridwidth": 2,
            "linecolor": "#EBF0F8",
            "showbackground": true,
            "ticks": "",
            "zerolinecolor": "#EBF0F8"
           }
          },
          "shapedefaults": {
           "line": {
            "color": "#2a3f5f"
           }
          },
          "ternary": {
           "aaxis": {
            "gridcolor": "#DFE8F3",
            "linecolor": "#A2B1C6",
            "ticks": ""
           },
           "baxis": {
            "gridcolor": "#DFE8F3",
            "linecolor": "#A2B1C6",
            "ticks": ""
           },
           "bgcolor": "white",
           "caxis": {
            "gridcolor": "#DFE8F3",
            "linecolor": "#A2B1C6",
            "ticks": ""
           }
          },
          "title": {
           "x": 0.05
          },
          "xaxis": {
           "automargin": true,
           "gridcolor": "#EBF0F8",
           "linecolor": "#EBF0F8",
           "ticks": "",
           "title": {
            "standoff": 15
           },
           "zerolinecolor": "#EBF0F8",
           "zerolinewidth": 2
          },
          "yaxis": {
           "automargin": true,
           "gridcolor": "#EBF0F8",
           "linecolor": "#EBF0F8",
           "ticks": "",
           "title": {
            "standoff": 15
           },
           "zerolinecolor": "#EBF0F8",
           "zerolinewidth": 2
          }
         }
        },
        "title": {
         "text": "Top 10 Países com Mais Participações em Copas do Mundo - Plotly"
        },
        "xaxis": {
         "anchor": "y",
         "domain": [
          0,
          1
         ],
         "title": {
          "text": "País"
         }
        },
        "yaxis": {
         "anchor": "x",
         "domain": [
          0,
          1
         ],
         "title": {
          "text": "Número de Participações"
         }
        }
       }
      }
     },
     "metadata": {},
     "output_type": "display_data"
    }
   ],
   "source": [
    "#### solução com plotly\n",
    "fig = px.bar(top_10_melted, x='país_sede', y='Participações', color='Tipo de Copa', barmode='stack',\n",
    "             title='Top 10 Países com Mais Participações em Copas do Mundo - Plotly')\n",
    "fig.update_layout(xaxis_title='País', yaxis_title='Número de Participações')\n",
    "fig.show()\n"
   ]
  },
  {
   "cell_type": "markdown",
   "metadata": {},
   "source": [
    "#### Q5.\n",
    "\n",
    "Vamos fazer um compilado com as estatísticas históricas de copas do mundo!\n",
    "\n",
    "Com a biblioteca de sua preferência você deve criar 4 subplots organizados em um grid de 2 linhas e 2 colunas. Eles devem conter os seguintes gráficos:\n",
    "* Linha 1, coluna 1: Gráfico de barras com a quantidade de jogos que aconteceram por ano\n",
    "* Linha 1, coluna 2: Gráfico de área (referências a seguir) com o total de gols por ano, separando as informações de `gols_1` e `gols_2` para distinguir gols em casa e do time visitante.\n",
    "* Linha 2, coluna 1: Gráfico de área com o total de cartões por ano, separando as informações de cartões amarelos e cartões vermelhos, mas agregando cartões do time 1 ou time 2. Ou seja, uma área com `cartao_amarelo_1 + cartao_amarelo_2` e outra área com `cartao_vermelho_1 + cartao_vermelho_2`.\n",
    "* Linha 2, coluna 2: Gráfico de barras com o total de gols contra por ano, somando `gols_contra_1` e `gols_contra_2`.\n",
    "\n",
    "Referências sobre gráfico de área\n",
    "* Matplotlib: https://matplotlib.org/stable/gallery/lines_bars_and_markers/stackplot_demo.html#sphx-glr-gallery-lines-bars-and-markers-stackplot-demo-py\n",
    "* Pandas + Matplotlib: https://pandas.pydata.org/docs/reference/api/pandas.DataFrame.plot.area.html\n",
    "* Seaborn: https://seaborn.pydata.org/generated/seaborn.objects.Area.html\n",
    "* Plotly: https://plotly.com/python/filled-area-plots/"
   ]
  },
  {
   "cell_type": "code",
   "execution_count": 42,
   "metadata": {},
   "outputs": [
    {
     "data": {
      "image/png": "[encoded data removed]",
      "text/plain": [
       "<Figure size 1200x1000 with 4 Axes>"
      ]
     },
     "metadata": {},
     "output_type": "display_data"
    }
   ],
   "source": [
    "import matplotlib.pyplot as plt\n",
    "import pandas as pd\n",
    "\n",
    "# Garantir que 'ano' seja numérico\n",
    "wc['ano'] = pd.to_numeric(wc['ano'], errors='coerce')\n",
    "\n",
    "# Garantir que colunas relevantes sejam numéricas e substituir NaN por 0\n",
    "cols_numericas = ['gols_1', 'gols_2', 'cartao_amarelo_1', 'cartao_amarelo_2', \n",
    "                  'cartao_vermelho_1', 'cartao_vermelho_2', 'gols_1_contra', 'gols_2_contra']\n",
    "wc[cols_numericas] = wc[cols_numericas].apply(pd.to_numeric, errors='coerce').fillna(0)\n",
    "\n",
    "# Criar subplots\n",
    "fig, axes = plt.subplots(2, 2, figsize=(12, 10))\n",
    "\n",
    "# Gráfico de barras com a quantidade de jogos por ano\n",
    "wc['ano'].value_counts().sort_index().plot(kind='bar', ax=axes[0, 0], color='blue')\n",
    "axes[0, 0].set_title('Quantidade de Jogos por Ano')\n",
    "axes[0, 0].set_xlabel('Ano')\n",
    "axes[0, 0].set_ylabel('Número de Jogos')\n",
    "\n",
    "# Gráfico de área com total de gols por ano\n",
    "gols_por_ano = wc.groupby('ano')[['gols_1', 'gols_2']].sum()\n",
    "axes[0, 1].stackplot(gols_por_ano.index, gols_por_ano['gols_1'], gols_por_ano['gols_2'], labels=['Time 1', 'Time 2'], colors=['blue', 'orange'])\n",
    "axes[0, 1].set_title('Total de Gols por Ano')\n",
    "axes[0, 1].set_xlabel('Ano')\n",
    "axes[0, 1].set_ylabel('Número de Gols')\n",
    "axes[0, 1].legend()\n",
    "\n",
    "# Gráfico de área com total de cartões por ano\n",
    "cartoes_por_ano = wc.groupby('ano')[['cartao_amarelo_1', 'cartao_amarelo_2', 'cartao_vermelho_1', 'cartao_vermelho_2']].sum()\n",
    "cartoes_amarelos = cartoes_por_ano['cartao_amarelo_1'] + cartoes_por_ano['cartao_amarelo_2']\n",
    "cartoes_vermelhos = cartoes_por_ano['cartao_vermelho_1'] + cartoes_por_ano['cartao_vermelho_2']\n",
    "axes[1, 0].stackplot(cartoes_por_ano.index, cartoes_amarelos, cartoes_vermelhos, labels=['Amarelos', 'Vermelhos'], colors=['yellow', 'red'])\n",
    "axes[1, 0].set_title('Total de Cartões por Ano')\n",
    "axes[1, 0].set_xlabel('Ano')\n",
    "axes[1, 0].set_ylabel('Número de Cartões')\n",
    "axes[1, 0].legend()\n",
    "\n",
    "# Gráfico de barras com total de gols contra por ano\n",
    "gols_contra_por_ano = wc.groupby('ano')[['gols_1_contra', 'gols_2_contra']].sum().sum(axis=1)\n",
    "gols_contra_por_ano.plot(kind='bar', ax=axes[1, 1], color='purple')\n",
    "axes[1, 1].set_title('Total de Gols Contra por Ano')\n",
    "axes[1, 1].set_xlabel('Ano')\n",
    "axes[1, 1].set_ylabel('Número de Gols Contra')\n",
    "\n",
    "plt.tight_layout()\n",
    "plt.show()\n"
   ]
  },
  {
   "cell_type": "code",
   "execution_count": null,
   "metadata": {},
   "outputs": [],
   "source": []
  }
 ],
 "metadata": {
  "kernelspec": {
   "display_name": "Python 3",
   "language": "python",
   "name": "python3"
  },
  "language_info": {
   "codemirror_mode": {
    "name": "ipython",
    "version": 3
   },
   "file_extension": ".py",
   "mimetype": "text/x-python",
   "name": "python",
   "nbconvert_exporter": "python",
   "pygments_lexer": "ipython3",
   "version": "3.11.6"
  }
 },
 "nbformat": 4,
 "nbformat_minor": 2
}
